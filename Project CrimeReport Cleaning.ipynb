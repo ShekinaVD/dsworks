{
 "cells": [
  {
   "cell_type": "markdown",
   "metadata": {},
   "source": [
    "## CAPSTONE PROJECT"
   ]
  },
  {
   "cell_type": "markdown",
   "metadata": {},
   "source": [
    "### DATA WRANGLING and CLEANING"
   ]
  },
  {
   "cell_type": "code",
   "execution_count": 2,
   "metadata": {},
   "outputs": [],
   "source": [
    "import pandas as pd\n",
    "import numpy as np"
   ]
  },
  {
   "cell_type": "markdown",
   "metadata": {},
   "source": [
    "### Import Raw Crime Data\n"
   ]
  },
  {
   "cell_type": "code",
   "execution_count": 3,
   "metadata": {},
   "outputs": [],
   "source": [
    "#QCPD Station 10 file 2016\n",
    "crime1 = pd.read_excel('QCPDStation10_2016.xlsx', sheet_name='Detailed_Report')\n",
    "\n",
    "#QCPD Station 10 file 2017-2018\n",
    "crime2 = pd.read_excel('QCPDStation10_2017-2018.xlsx', sheet_name='Detailed_Report')"
   ]
  },
  {
   "cell_type": "code",
   "execution_count": 4,
   "metadata": {},
   "outputs": [
    {
     "data": {
      "text/html": [
       "<div>\n",
       "<style scoped>\n",
       "    .dataframe tbody tr th:only-of-type {\n",
       "        vertical-align: middle;\n",
       "    }\n",
       "\n",
       "    .dataframe tbody tr th {\n",
       "        vertical-align: top;\n",
       "    }\n",
       "\n",
       "    .dataframe thead th {\n",
       "        text-align: right;\n",
       "    }\n",
       "</style>\n",
       "<table border=\"1\" class=\"dataframe\">\n",
       "  <thead>\n",
       "    <tr style=\"text-align: right;\">\n",
       "      <th></th>\n",
       "      <th>barangay</th>\n",
       "      <th>street</th>\n",
       "      <th>date_committed</th>\n",
       "      <th>time_committed</th>\n",
       "      <th>offense</th>\n",
       "      <th>crime_category</th>\n",
       "    </tr>\n",
       "  </thead>\n",
       "  <tbody>\n",
       "    <tr>\n",
       "      <th>0</th>\n",
       "      <td>Obrero</td>\n",
       "      <td>SCOUT OJEDA ST.</td>\n",
       "      <td>2016-01-01</td>\n",
       "      <td>04:00:00</td>\n",
       "      <td>THEFT</td>\n",
       "      <td>PROPERTY</td>\n",
       "    </tr>\n",
       "    <tr>\n",
       "      <th>1</th>\n",
       "      <td>Roxas</td>\n",
       "      <td>HYACINTH ST.</td>\n",
       "      <td>2016-01-01</td>\n",
       "      <td>15:30:00</td>\n",
       "      <td>THEFT</td>\n",
       "      <td>PROPERTY</td>\n",
       "    </tr>\n",
       "    <tr>\n",
       "      <th>2</th>\n",
       "      <td>Sacred Heart</td>\n",
       "      <td>SCOUT TORILLO ST.</td>\n",
       "      <td>2016-01-02</td>\n",
       "      <td>00:00:00</td>\n",
       "      <td>ROBBERY</td>\n",
       "      <td>PROPERTY</td>\n",
       "    </tr>\n",
       "    <tr>\n",
       "      <th>3</th>\n",
       "      <td>Sacred Heart</td>\n",
       "      <td>NaN</td>\n",
       "      <td>2016-01-03</td>\n",
       "      <td>00:30:00</td>\n",
       "      <td>THEFT</td>\n",
       "      <td>PROPERTY</td>\n",
       "    </tr>\n",
       "    <tr>\n",
       "      <th>4</th>\n",
       "      <td>South Triangle</td>\n",
       "      <td>MOTHER IGNACIA AVE.</td>\n",
       "      <td>2016-01-04</td>\n",
       "      <td>00:00:00</td>\n",
       "      <td>PHYSICAL INJURIES</td>\n",
       "      <td>PERSONS</td>\n",
       "    </tr>\n",
       "  </tbody>\n",
       "</table>\n",
       "</div>"
      ],
      "text/plain": [
       "         barangay               street date_committed time_committed  \\\n",
       "0          Obrero      SCOUT OJEDA ST.     2016-01-01       04:00:00   \n",
       "1           Roxas         HYACINTH ST.     2016-01-01       15:30:00   \n",
       "2    Sacred Heart    SCOUT TORILLO ST.     2016-01-02       00:00:00   \n",
       "3    Sacred Heart                  NaN     2016-01-03       00:30:00   \n",
       "4  South Triangle  MOTHER IGNACIA AVE.     2016-01-04       00:00:00   \n",
       "\n",
       "             offense crime_category  \n",
       "0              THEFT       PROPERTY  \n",
       "1              THEFT       PROPERTY  \n",
       "2            ROBBERY       PROPERTY  \n",
       "3              THEFT       PROPERTY  \n",
       "4  PHYSICAL INJURIES        PERSONS  "
      ]
     },
     "execution_count": 4,
     "metadata": {},
     "output_type": "execute_result"
    }
   ],
   "source": [
    "crime1.head()"
   ]
  },
  {
   "cell_type": "code",
   "execution_count": 5,
   "metadata": {},
   "outputs": [
    {
     "data": {
      "text/html": [
       "<div>\n",
       "<style scoped>\n",
       "    .dataframe tbody tr th:only-of-type {\n",
       "        vertical-align: middle;\n",
       "    }\n",
       "\n",
       "    .dataframe tbody tr th {\n",
       "        vertical-align: top;\n",
       "    }\n",
       "\n",
       "    .dataframe thead th {\n",
       "        text-align: right;\n",
       "    }\n",
       "</style>\n",
       "<table border=\"1\" class=\"dataframe\">\n",
       "  <thead>\n",
       "    <tr style=\"text-align: right;\">\n",
       "      <th></th>\n",
       "      <th>barangay</th>\n",
       "      <th>street</th>\n",
       "      <th>date_committed</th>\n",
       "      <th>time_committed</th>\n",
       "      <th>offense</th>\n",
       "      <th>crime_category</th>\n",
       "    </tr>\n",
       "  </thead>\n",
       "  <tbody>\n",
       "    <tr>\n",
       "      <th>count</th>\n",
       "      <td>759</td>\n",
       "      <td>732</td>\n",
       "      <td>759</td>\n",
       "      <td>759</td>\n",
       "      <td>759</td>\n",
       "      <td>759</td>\n",
       "    </tr>\n",
       "    <tr>\n",
       "      <th>unique</th>\n",
       "      <td>11</td>\n",
       "      <td>112</td>\n",
       "      <td>323</td>\n",
       "      <td>161</td>\n",
       "      <td>8</td>\n",
       "      <td>3</td>\n",
       "    </tr>\n",
       "    <tr>\n",
       "      <th>top</th>\n",
       "      <td>South Triangle</td>\n",
       "      <td>EDSA</td>\n",
       "      <td>2016-12-10 00:00:00</td>\n",
       "      <td>00:00:00</td>\n",
       "      <td>THEFT</td>\n",
       "      <td>PROPERTY</td>\n",
       "    </tr>\n",
       "    <tr>\n",
       "      <th>freq</th>\n",
       "      <td>185</td>\n",
       "      <td>82</td>\n",
       "      <td>7</td>\n",
       "      <td>135</td>\n",
       "      <td>333</td>\n",
       "      <td>464</td>\n",
       "    </tr>\n",
       "    <tr>\n",
       "      <th>first</th>\n",
       "      <td>NaN</td>\n",
       "      <td>NaN</td>\n",
       "      <td>2016-01-01 00:00:00</td>\n",
       "      <td>NaN</td>\n",
       "      <td>NaN</td>\n",
       "      <td>NaN</td>\n",
       "    </tr>\n",
       "    <tr>\n",
       "      <th>last</th>\n",
       "      <td>NaN</td>\n",
       "      <td>NaN</td>\n",
       "      <td>2016-12-31 00:00:00</td>\n",
       "      <td>NaN</td>\n",
       "      <td>NaN</td>\n",
       "      <td>NaN</td>\n",
       "    </tr>\n",
       "  </tbody>\n",
       "</table>\n",
       "</div>"
      ],
      "text/plain": [
       "              barangay street       date_committed time_committed offense  \\\n",
       "count              759    732                  759            759     759   \n",
       "unique              11    112                  323            161       8   \n",
       "top     South Triangle   EDSA  2016-12-10 00:00:00       00:00:00   THEFT   \n",
       "freq               185     82                    7            135     333   \n",
       "first              NaN    NaN  2016-01-01 00:00:00            NaN     NaN   \n",
       "last               NaN    NaN  2016-12-31 00:00:00            NaN     NaN   \n",
       "\n",
       "       crime_category  \n",
       "count             759  \n",
       "unique              3  \n",
       "top          PROPERTY  \n",
       "freq              464  \n",
       "first             NaN  \n",
       "last              NaN  "
      ]
     },
     "execution_count": 5,
     "metadata": {},
     "output_type": "execute_result"
    }
   ],
   "source": [
    "crime1.describe()"
   ]
  },
  {
   "cell_type": "code",
   "execution_count": 6,
   "metadata": {},
   "outputs": [
    {
     "name": "stdout",
     "output_type": "stream",
     "text": [
      "<class 'pandas.core.frame.DataFrame'>\n",
      "RangeIndex: 759 entries, 0 to 758\n",
      "Data columns (total 6 columns):\n",
      "barangay          759 non-null object\n",
      "street            732 non-null object\n",
      "date_committed    759 non-null datetime64[ns]\n",
      "time_committed    759 non-null object\n",
      "offense           759 non-null object\n",
      "crime_category    759 non-null object\n",
      "dtypes: datetime64[ns](1), object(5)\n",
      "memory usage: 35.6+ KB\n"
     ]
    }
   ],
   "source": [
    "crime1.info()"
   ]
  },
  {
   "cell_type": "code",
   "execution_count": 7,
   "metadata": {},
   "outputs": [
    {
     "data": {
      "text/html": [
       "<div>\n",
       "<style scoped>\n",
       "    .dataframe tbody tr th:only-of-type {\n",
       "        vertical-align: middle;\n",
       "    }\n",
       "\n",
       "    .dataframe tbody tr th {\n",
       "        vertical-align: top;\n",
       "    }\n",
       "\n",
       "    .dataframe thead th {\n",
       "        text-align: right;\n",
       "    }\n",
       "</style>\n",
       "<table border=\"1\" class=\"dataframe\">\n",
       "  <thead>\n",
       "    <tr style=\"text-align: right;\">\n",
       "      <th></th>\n",
       "      <th>Barangays</th>\n",
       "    </tr>\n",
       "  </thead>\n",
       "  <tbody>\n",
       "    <tr>\n",
       "      <th>0</th>\n",
       "      <td>Obrero</td>\n",
       "    </tr>\n",
       "    <tr>\n",
       "      <th>1</th>\n",
       "      <td>Roxas</td>\n",
       "    </tr>\n",
       "    <tr>\n",
       "      <th>2</th>\n",
       "      <td>Sacred Heart</td>\n",
       "    </tr>\n",
       "    <tr>\n",
       "      <th>3</th>\n",
       "      <td>South Triangle</td>\n",
       "    </tr>\n",
       "    <tr>\n",
       "      <th>4</th>\n",
       "      <td>Pinyahan</td>\n",
       "    </tr>\n",
       "    <tr>\n",
       "      <th>5</th>\n",
       "      <td>Central</td>\n",
       "    </tr>\n",
       "    <tr>\n",
       "      <th>6</th>\n",
       "      <td>Kamuning</td>\n",
       "    </tr>\n",
       "    <tr>\n",
       "      <th>7</th>\n",
       "      <td>Paligsahan</td>\n",
       "    </tr>\n",
       "    <tr>\n",
       "      <th>8</th>\n",
       "      <td>Laging Handa</td>\n",
       "    </tr>\n",
       "    <tr>\n",
       "      <th>9</th>\n",
       "      <td>Immaculate Concepcion</td>\n",
       "    </tr>\n",
       "    <tr>\n",
       "      <th>10</th>\n",
       "      <td>Pinagkaisahan</td>\n",
       "    </tr>\n",
       "  </tbody>\n",
       "</table>\n",
       "</div>"
      ],
      "text/plain": [
       "                Barangays\n",
       "0                  Obrero\n",
       "1                   Roxas\n",
       "2            Sacred Heart\n",
       "3          South Triangle\n",
       "4                Pinyahan\n",
       "5                 Central\n",
       "6                Kamuning\n",
       "7              Paligsahan\n",
       "8            Laging Handa\n",
       "9   Immaculate Concepcion\n",
       "10          Pinagkaisahan"
      ]
     },
     "execution_count": 7,
     "metadata": {},
     "output_type": "execute_result"
    }
   ],
   "source": [
    "barangays = crime1.barangay.unique()\n",
    "pd.DataFrame(barangays, columns=[\"Barangays\"])"
   ]
  },
  {
   "cell_type": "code",
   "execution_count": 8,
   "metadata": {},
   "outputs": [
    {
     "data": {
      "text/html": [
       "<div>\n",
       "<style scoped>\n",
       "    .dataframe tbody tr th:only-of-type {\n",
       "        vertical-align: middle;\n",
       "    }\n",
       "\n",
       "    .dataframe tbody tr th {\n",
       "        vertical-align: top;\n",
       "    }\n",
       "\n",
       "    .dataframe thead th {\n",
       "        text-align: right;\n",
       "    }\n",
       "</style>\n",
       "<table border=\"1\" class=\"dataframe\">\n",
       "  <thead>\n",
       "    <tr style=\"text-align: right;\">\n",
       "      <th></th>\n",
       "      <th>Types of Offenses</th>\n",
       "    </tr>\n",
       "  </thead>\n",
       "  <tbody>\n",
       "    <tr>\n",
       "      <th>0</th>\n",
       "      <td>THEFT</td>\n",
       "    </tr>\n",
       "    <tr>\n",
       "      <th>1</th>\n",
       "      <td>ROBBERY</td>\n",
       "    </tr>\n",
       "    <tr>\n",
       "      <th>2</th>\n",
       "      <td>PHYSICAL INJURIES</td>\n",
       "    </tr>\n",
       "    <tr>\n",
       "      <th>3</th>\n",
       "      <td>MOTORNAPPING</td>\n",
       "    </tr>\n",
       "    <tr>\n",
       "      <th>4</th>\n",
       "      <td>CARNAPPING</td>\n",
       "    </tr>\n",
       "    <tr>\n",
       "      <th>5</th>\n",
       "      <td>HOMICIDE</td>\n",
       "    </tr>\n",
       "    <tr>\n",
       "      <th>6</th>\n",
       "      <td>RAPE</td>\n",
       "    </tr>\n",
       "    <tr>\n",
       "      <th>7</th>\n",
       "      <td>MURDER</td>\n",
       "    </tr>\n",
       "  </tbody>\n",
       "</table>\n",
       "</div>"
      ],
      "text/plain": [
       "   Types of Offenses\n",
       "0              THEFT\n",
       "1            ROBBERY\n",
       "2  PHYSICAL INJURIES\n",
       "3      MOTORNAPPING \n",
       "4        CARNAPPING \n",
       "5           HOMICIDE\n",
       "6              RAPE \n",
       "7             MURDER"
      ]
     },
     "execution_count": 8,
     "metadata": {},
     "output_type": "execute_result"
    }
   ],
   "source": [
    "offense = crime1.offense.unique()\n",
    "pd.DataFrame(offense, columns=[\"Types of Offenses\"])"
   ]
  },
  {
   "cell_type": "code",
   "execution_count": 9,
   "metadata": {},
   "outputs": [
    {
     "data": {
      "text/html": [
       "<div>\n",
       "<style scoped>\n",
       "    .dataframe tbody tr th:only-of-type {\n",
       "        vertical-align: middle;\n",
       "    }\n",
       "\n",
       "    .dataframe tbody tr th {\n",
       "        vertical-align: top;\n",
       "    }\n",
       "\n",
       "    .dataframe thead th {\n",
       "        text-align: right;\n",
       "    }\n",
       "</style>\n",
       "<table border=\"1\" class=\"dataframe\">\n",
       "  <thead>\n",
       "    <tr style=\"text-align: right;\">\n",
       "      <th></th>\n",
       "      <th>barangay</th>\n",
       "      <th>street</th>\n",
       "      <th>date_committed</th>\n",
       "      <th>time_committed</th>\n",
       "      <th>stages_of_felony</th>\n",
       "      <th>offense</th>\n",
       "      <th>offense_category</th>\n",
       "      <th>crime_category</th>\n",
       "    </tr>\n",
       "  </thead>\n",
       "  <tbody>\n",
       "    <tr>\n",
       "      <th>0</th>\n",
       "      <td>Kamuning</td>\n",
       "      <td>K-5TH ST.</td>\n",
       "      <td>2017-01-01</td>\n",
       "      <td>04:00:00</td>\n",
       "      <td>FRUSTRATED</td>\n",
       "      <td>PHYSICAL INJURIES</td>\n",
       "      <td>NaN</td>\n",
       "      <td>PERSONS</td>\n",
       "    </tr>\n",
       "    <tr>\n",
       "      <th>1</th>\n",
       "      <td>Central</td>\n",
       "      <td>EAST AVE.</td>\n",
       "      <td>2017-01-04</td>\n",
       "      <td>14:05:00</td>\n",
       "      <td>CONSUMATED</td>\n",
       "      <td>PHYSICAL INJURIES</td>\n",
       "      <td>NaN</td>\n",
       "      <td>PERSONS</td>\n",
       "    </tr>\n",
       "    <tr>\n",
       "      <th>2</th>\n",
       "      <td>Central</td>\n",
       "      <td>ELLIPTICAL RD.</td>\n",
       "      <td>2017-01-05</td>\n",
       "      <td>00:00:00</td>\n",
       "      <td>CONSUMATED</td>\n",
       "      <td>THEFT</td>\n",
       "      <td>NaN</td>\n",
       "      <td>PROPERTY</td>\n",
       "    </tr>\n",
       "    <tr>\n",
       "      <th>3</th>\n",
       "      <td>Central</td>\n",
       "      <td>ELLIPTICAL RD.</td>\n",
       "      <td>2017-01-05</td>\n",
       "      <td>19:00:00</td>\n",
       "      <td>CONSUMATED</td>\n",
       "      <td>ROBBERY</td>\n",
       "      <td>NaN</td>\n",
       "      <td>PROPERTY</td>\n",
       "    </tr>\n",
       "    <tr>\n",
       "      <th>4</th>\n",
       "      <td>Pinyahan</td>\n",
       "      <td>EDSA</td>\n",
       "      <td>2017-01-08</td>\n",
       "      <td>15:00:00</td>\n",
       "      <td>CONSUMATED</td>\n",
       "      <td>ROBBERY</td>\n",
       "      <td>NaN</td>\n",
       "      <td>PROPERTY</td>\n",
       "    </tr>\n",
       "    <tr>\n",
       "      <th>5</th>\n",
       "      <td>Pinyahan</td>\n",
       "      <td>EAST AVE.</td>\n",
       "      <td>2017-01-05</td>\n",
       "      <td>13:30:00</td>\n",
       "      <td>CONSUMATED</td>\n",
       "      <td>ROBBERY</td>\n",
       "      <td>NaN</td>\n",
       "      <td>PROPERTY</td>\n",
       "    </tr>\n",
       "    <tr>\n",
       "      <th>6</th>\n",
       "      <td>South Triangle</td>\n",
       "      <td>PANAY AVE.</td>\n",
       "      <td>2017-01-09</td>\n",
       "      <td>03:40:00</td>\n",
       "      <td>CONSUMATED</td>\n",
       "      <td>PHYSICAL INJURIES</td>\n",
       "      <td>NaN</td>\n",
       "      <td>PERSONS</td>\n",
       "    </tr>\n",
       "    <tr>\n",
       "      <th>7</th>\n",
       "      <td>Pinyahan</td>\n",
       "      <td>MAGALANG ST.</td>\n",
       "      <td>2017-01-11</td>\n",
       "      <td>00:00:00</td>\n",
       "      <td>ATTEMPTED</td>\n",
       "      <td>PHYSICAL INJURIES</td>\n",
       "      <td>NaN</td>\n",
       "      <td>PERSONS</td>\n",
       "    </tr>\n",
       "    <tr>\n",
       "      <th>8</th>\n",
       "      <td>Paligsahan</td>\n",
       "      <td>TIMOG AVE.</td>\n",
       "      <td>2017-01-11</td>\n",
       "      <td>18:30:00</td>\n",
       "      <td>CONSUMATED</td>\n",
       "      <td>THEFT</td>\n",
       "      <td>NaN</td>\n",
       "      <td>PROPERTY</td>\n",
       "    </tr>\n",
       "    <tr>\n",
       "      <th>9</th>\n",
       "      <td>Sacred Heart</td>\n",
       "      <td>TOMAS MORATO AVE.</td>\n",
       "      <td>2017-01-13</td>\n",
       "      <td>03:00:00</td>\n",
       "      <td>CONSUMATED</td>\n",
       "      <td>PHYSICAL INJURIES</td>\n",
       "      <td>NaN</td>\n",
       "      <td>PERSONS</td>\n",
       "    </tr>\n",
       "  </tbody>\n",
       "</table>\n",
       "</div>"
      ],
      "text/plain": [
       "         barangay             street date_committed time_committed  \\\n",
       "0        Kamuning          K-5TH ST.     2017-01-01       04:00:00   \n",
       "1         Central          EAST AVE.     2017-01-04       14:05:00   \n",
       "2         Central     ELLIPTICAL RD.     2017-01-05       00:00:00   \n",
       "3         Central     ELLIPTICAL RD.     2017-01-05       19:00:00   \n",
       "4        Pinyahan               EDSA     2017-01-08       15:00:00   \n",
       "5        Pinyahan          EAST AVE.     2017-01-05       13:30:00   \n",
       "6  South Triangle         PANAY AVE.     2017-01-09       03:40:00   \n",
       "7        Pinyahan       MAGALANG ST.     2017-01-11       00:00:00   \n",
       "8      Paligsahan         TIMOG AVE.     2017-01-11       18:30:00   \n",
       "9    Sacred Heart  TOMAS MORATO AVE.     2017-01-13       03:00:00   \n",
       "\n",
       "  stages_of_felony            offense offense_category crime_category  \n",
       "0       FRUSTRATED  PHYSICAL INJURIES              NaN        PERSONS  \n",
       "1       CONSUMATED  PHYSICAL INJURIES              NaN        PERSONS  \n",
       "2       CONSUMATED              THEFT              NaN       PROPERTY  \n",
       "3       CONSUMATED            ROBBERY              NaN       PROPERTY  \n",
       "4       CONSUMATED            ROBBERY              NaN       PROPERTY  \n",
       "5       CONSUMATED            ROBBERY              NaN       PROPERTY  \n",
       "6       CONSUMATED  PHYSICAL INJURIES              NaN        PERSONS  \n",
       "7        ATTEMPTED  PHYSICAL INJURIES              NaN        PERSONS  \n",
       "8       CONSUMATED              THEFT              NaN       PROPERTY  \n",
       "9       CONSUMATED  PHYSICAL INJURIES              NaN        PERSONS  "
      ]
     },
     "execution_count": 9,
     "metadata": {},
     "output_type": "execute_result"
    }
   ],
   "source": [
    "crime2.head(10)"
   ]
  },
  {
   "cell_type": "code",
   "execution_count": 10,
   "metadata": {},
   "outputs": [
    {
     "data": {
      "text/html": [
       "<div>\n",
       "<style scoped>\n",
       "    .dataframe tbody tr th:only-of-type {\n",
       "        vertical-align: middle;\n",
       "    }\n",
       "\n",
       "    .dataframe tbody tr th {\n",
       "        vertical-align: top;\n",
       "    }\n",
       "\n",
       "    .dataframe thead th {\n",
       "        text-align: right;\n",
       "    }\n",
       "</style>\n",
       "<table border=\"1\" class=\"dataframe\">\n",
       "  <thead>\n",
       "    <tr style=\"text-align: right;\">\n",
       "      <th></th>\n",
       "      <th>barangay</th>\n",
       "      <th>street</th>\n",
       "      <th>date_committed</th>\n",
       "      <th>time_committed</th>\n",
       "      <th>stages_of_felony</th>\n",
       "      <th>offense</th>\n",
       "      <th>offense_category</th>\n",
       "      <th>crime_category</th>\n",
       "    </tr>\n",
       "  </thead>\n",
       "  <tbody>\n",
       "    <tr>\n",
       "      <th>count</th>\n",
       "      <td>1029</td>\n",
       "      <td>931</td>\n",
       "      <td>1029</td>\n",
       "      <td>1029</td>\n",
       "      <td>1029</td>\n",
       "      <td>1029</td>\n",
       "      <td>41</td>\n",
       "      <td>1029</td>\n",
       "    </tr>\n",
       "    <tr>\n",
       "      <th>unique</th>\n",
       "      <td>11</td>\n",
       "      <td>118</td>\n",
       "      <td>532</td>\n",
       "      <td>207</td>\n",
       "      <td>4</td>\n",
       "      <td>8</td>\n",
       "      <td>6</td>\n",
       "      <td>3</td>\n",
       "    </tr>\n",
       "    <tr>\n",
       "      <th>top</th>\n",
       "      <td>South Triangle</td>\n",
       "      <td>EDSA</td>\n",
       "      <td>2018-06-27 00:00:00</td>\n",
       "      <td>00:00:00</td>\n",
       "      <td>CONSUMATED</td>\n",
       "      <td>THEFT</td>\n",
       "      <td>Rape in Relation to 7610</td>\n",
       "      <td>PROPERTY</td>\n",
       "    </tr>\n",
       "    <tr>\n",
       "      <th>freq</th>\n",
       "      <td>218</td>\n",
       "      <td>117</td>\n",
       "      <td>7</td>\n",
       "      <td>186</td>\n",
       "      <td>972</td>\n",
       "      <td>442</td>\n",
       "      <td>16</td>\n",
       "      <td>646</td>\n",
       "    </tr>\n",
       "    <tr>\n",
       "      <th>first</th>\n",
       "      <td>NaN</td>\n",
       "      <td>NaN</td>\n",
       "      <td>2017-01-01 00:00:00</td>\n",
       "      <td>NaN</td>\n",
       "      <td>NaN</td>\n",
       "      <td>NaN</td>\n",
       "      <td>NaN</td>\n",
       "      <td>NaN</td>\n",
       "    </tr>\n",
       "    <tr>\n",
       "      <th>last</th>\n",
       "      <td>NaN</td>\n",
       "      <td>NaN</td>\n",
       "      <td>2018-12-31 00:00:00</td>\n",
       "      <td>NaN</td>\n",
       "      <td>NaN</td>\n",
       "      <td>NaN</td>\n",
       "      <td>NaN</td>\n",
       "      <td>NaN</td>\n",
       "    </tr>\n",
       "  </tbody>\n",
       "</table>\n",
       "</div>"
      ],
      "text/plain": [
       "              barangay street       date_committed time_committed  \\\n",
       "count             1029    931                 1029           1029   \n",
       "unique              11    118                  532            207   \n",
       "top     South Triangle   EDSA  2018-06-27 00:00:00       00:00:00   \n",
       "freq               218    117                    7            186   \n",
       "first              NaN    NaN  2017-01-01 00:00:00            NaN   \n",
       "last               NaN    NaN  2018-12-31 00:00:00            NaN   \n",
       "\n",
       "       stages_of_felony offense          offense_category crime_category  \n",
       "count              1029    1029                        41           1029  \n",
       "unique                4       8                         6              3  \n",
       "top          CONSUMATED   THEFT  Rape in Relation to 7610       PROPERTY  \n",
       "freq                972     442                        16            646  \n",
       "first               NaN     NaN                       NaN            NaN  \n",
       "last                NaN     NaN                       NaN            NaN  "
      ]
     },
     "execution_count": 10,
     "metadata": {},
     "output_type": "execute_result"
    }
   ],
   "source": [
    "crime2.describe()"
   ]
  },
  {
   "cell_type": "code",
   "execution_count": 11,
   "metadata": {},
   "outputs": [
    {
     "name": "stdout",
     "output_type": "stream",
     "text": [
      "<class 'pandas.core.frame.DataFrame'>\n",
      "RangeIndex: 1029 entries, 0 to 1028\n",
      "Data columns (total 8 columns):\n",
      "barangay            1029 non-null object\n",
      "street              931 non-null object\n",
      "date_committed      1029 non-null datetime64[ns]\n",
      "time_committed      1029 non-null object\n",
      "stages_of_felony    1029 non-null object\n",
      "offense             1029 non-null object\n",
      "offense_category    41 non-null object\n",
      "crime_category      1029 non-null object\n",
      "dtypes: datetime64[ns](1), object(7)\n",
      "memory usage: 64.4+ KB\n"
     ]
    }
   ],
   "source": [
    "crime2.info()"
   ]
  },
  {
   "cell_type": "markdown",
   "metadata": {},
   "source": [
    "### Rename Offense Types"
   ]
  },
  {
   "cell_type": "code",
   "execution_count": 12,
   "metadata": {},
   "outputs": [
    {
     "data": {
      "text/html": [
       "<div>\n",
       "<style scoped>\n",
       "    .dataframe tbody tr th:only-of-type {\n",
       "        vertical-align: middle;\n",
       "    }\n",
       "\n",
       "    .dataframe tbody tr th {\n",
       "        vertical-align: top;\n",
       "    }\n",
       "\n",
       "    .dataframe thead th {\n",
       "        text-align: right;\n",
       "    }\n",
       "</style>\n",
       "<table border=\"1\" class=\"dataframe\">\n",
       "  <thead>\n",
       "    <tr style=\"text-align: right;\">\n",
       "      <th></th>\n",
       "      <th>Types of Offenses</th>\n",
       "    </tr>\n",
       "  </thead>\n",
       "  <tbody>\n",
       "    <tr>\n",
       "      <th>0</th>\n",
       "      <td>PHYSICAL INJURIES</td>\n",
       "    </tr>\n",
       "    <tr>\n",
       "      <th>1</th>\n",
       "      <td>THEFT</td>\n",
       "    </tr>\n",
       "    <tr>\n",
       "      <th>2</th>\n",
       "      <td>ROBBERY</td>\n",
       "    </tr>\n",
       "    <tr>\n",
       "      <th>3</th>\n",
       "      <td>ANTI-CARNAPPING ACT (R.A. 6539) MC</td>\n",
       "    </tr>\n",
       "    <tr>\n",
       "      <th>4</th>\n",
       "      <td>ANTI-CARNAPPING ACT (R.A. 6539) MV</td>\n",
       "    </tr>\n",
       "    <tr>\n",
       "      <th>5</th>\n",
       "      <td>MURDER</td>\n",
       "    </tr>\n",
       "    <tr>\n",
       "      <th>6</th>\n",
       "      <td>RAPE (Art. 266-A RC &amp; R.A.8353)</td>\n",
       "    </tr>\n",
       "    <tr>\n",
       "      <th>7</th>\n",
       "      <td>HOMICIDE</td>\n",
       "    </tr>\n",
       "  </tbody>\n",
       "</table>\n",
       "</div>"
      ],
      "text/plain": [
       "                    Types of Offenses\n",
       "0                   PHYSICAL INJURIES\n",
       "1                               THEFT\n",
       "2                             ROBBERY\n",
       "3  ANTI-CARNAPPING ACT (R.A. 6539) MC\n",
       "4  ANTI-CARNAPPING ACT (R.A. 6539) MV\n",
       "5                              MURDER\n",
       "6     RAPE (Art. 266-A RC & R.A.8353)\n",
       "7                            HOMICIDE"
      ]
     },
     "execution_count": 12,
     "metadata": {},
     "output_type": "execute_result"
    }
   ],
   "source": [
    "offense = crime2.offense.unique()\n",
    "pd.DataFrame(offense, columns=[\"Types of Offenses\"])"
   ]
  },
  {
   "cell_type": "code",
   "execution_count": 13,
   "metadata": {},
   "outputs": [
    {
     "data": {
      "text/html": [
       "<div>\n",
       "<style scoped>\n",
       "    .dataframe tbody tr th:only-of-type {\n",
       "        vertical-align: middle;\n",
       "    }\n",
       "\n",
       "    .dataframe tbody tr th {\n",
       "        vertical-align: top;\n",
       "    }\n",
       "\n",
       "    .dataframe thead th {\n",
       "        text-align: right;\n",
       "    }\n",
       "</style>\n",
       "<table border=\"1\" class=\"dataframe\">\n",
       "  <thead>\n",
       "    <tr style=\"text-align: right;\">\n",
       "      <th></th>\n",
       "      <th>Types of Offenses</th>\n",
       "    </tr>\n",
       "  </thead>\n",
       "  <tbody>\n",
       "    <tr>\n",
       "      <th>0</th>\n",
       "      <td>THEFT</td>\n",
       "    </tr>\n",
       "    <tr>\n",
       "      <th>1</th>\n",
       "      <td>ROBBERY</td>\n",
       "    </tr>\n",
       "    <tr>\n",
       "      <th>2</th>\n",
       "      <td>PHYSICAL INJURIES</td>\n",
       "    </tr>\n",
       "    <tr>\n",
       "      <th>3</th>\n",
       "      <td>MOTORNAPPING</td>\n",
       "    </tr>\n",
       "    <tr>\n",
       "      <th>4</th>\n",
       "      <td>CARNAPPING</td>\n",
       "    </tr>\n",
       "    <tr>\n",
       "      <th>5</th>\n",
       "      <td>HOMICIDE</td>\n",
       "    </tr>\n",
       "    <tr>\n",
       "      <th>6</th>\n",
       "      <td>RAPE</td>\n",
       "    </tr>\n",
       "    <tr>\n",
       "      <th>7</th>\n",
       "      <td>MURDER</td>\n",
       "    </tr>\n",
       "  </tbody>\n",
       "</table>\n",
       "</div>"
      ],
      "text/plain": [
       "   Types of Offenses\n",
       "0              THEFT\n",
       "1            ROBBERY\n",
       "2  PHYSICAL INJURIES\n",
       "3      MOTORNAPPING \n",
       "4        CARNAPPING \n",
       "5           HOMICIDE\n",
       "6              RAPE \n",
       "7             MURDER"
      ]
     },
     "execution_count": 13,
     "metadata": {},
     "output_type": "execute_result"
    }
   ],
   "source": [
    "offense = crime1.offense.unique()\n",
    "pd.DataFrame(offense, columns=[\"Types of Offenses\"])"
   ]
  },
  {
   "cell_type": "code",
   "execution_count": 16,
   "metadata": {},
   "outputs": [],
   "source": [
    "rename2 = crime2.replace({'ANTI-CARNAPPING ACT (R.A. 6539) MC': 'CARNAPPING', \n",
    "                         'RAPE (Art. 266-A RC & R.A.8353)': 'RAPE',\n",
    "                         'ANTI-CARNAPPING ACT (R.A. 6539) MV': 'MOTORNAPPING'})"
   ]
  },
  {
   "cell_type": "code",
   "execution_count": 15,
   "metadata": {},
   "outputs": [],
   "source": [
    "rename1 = crime1.replace({'CARNAPPING ': 'CARNAPPING', \n",
    "                         'RAPE ': 'RAPE',\n",
    "                         'MOTORNAPPING ': 'MOTORNAPPING'})"
   ]
  },
  {
   "cell_type": "code",
   "execution_count": 18,
   "metadata": {},
   "outputs": [
    {
     "data": {
      "text/plain": [
       "array([u'THEFT', u'ROBBERY', u'PHYSICAL INJURIES', 'MOTORNAPPING',\n",
       "       'CARNAPPING', u'HOMICIDE', 'RAPE', u'MURDER'], dtype=object)"
      ]
     },
     "execution_count": 18,
     "metadata": {},
     "output_type": "execute_result"
    }
   ],
   "source": [
    "rename1.offense.unique()"
   ]
  },
  {
   "cell_type": "code",
   "execution_count": 19,
   "metadata": {},
   "outputs": [
    {
     "data": {
      "text/plain": [
       "array([u'PHYSICAL INJURIES', u'THEFT', u'ROBBERY', 'CARNAPPING',\n",
       "       'MOTORNAPPING', u'MURDER', 'RAPE', u'HOMICIDE'], dtype=object)"
      ]
     },
     "execution_count": 19,
     "metadata": {},
     "output_type": "execute_result"
    }
   ],
   "source": [
    "rename2.offense.unique()"
   ]
  },
  {
   "cell_type": "markdown",
   "metadata": {},
   "source": [
    "### DROP COLUMNS in CRIME2"
   ]
  },
  {
   "cell_type": "code",
   "execution_count": 20,
   "metadata": {},
   "outputs": [],
   "source": [
    "rename2drop = rename2.drop([\"stages_of_felony\", \"offense_category\"], axis=1)"
   ]
  },
  {
   "cell_type": "code",
   "execution_count": 21,
   "metadata": {},
   "outputs": [
    {
     "data": {
      "text/html": [
       "<div>\n",
       "<style scoped>\n",
       "    .dataframe tbody tr th:only-of-type {\n",
       "        vertical-align: middle;\n",
       "    }\n",
       "\n",
       "    .dataframe tbody tr th {\n",
       "        vertical-align: top;\n",
       "    }\n",
       "\n",
       "    .dataframe thead th {\n",
       "        text-align: right;\n",
       "    }\n",
       "</style>\n",
       "<table border=\"1\" class=\"dataframe\">\n",
       "  <thead>\n",
       "    <tr style=\"text-align: right;\">\n",
       "      <th></th>\n",
       "      <th>barangay</th>\n",
       "      <th>street</th>\n",
       "      <th>date_committed</th>\n",
       "      <th>time_committed</th>\n",
       "      <th>offense</th>\n",
       "      <th>crime_category</th>\n",
       "    </tr>\n",
       "  </thead>\n",
       "  <tbody>\n",
       "    <tr>\n",
       "      <th>0</th>\n",
       "      <td>Kamuning</td>\n",
       "      <td>K-5TH ST.</td>\n",
       "      <td>2017-01-01</td>\n",
       "      <td>04:00:00</td>\n",
       "      <td>PHYSICAL INJURIES</td>\n",
       "      <td>PERSONS</td>\n",
       "    </tr>\n",
       "    <tr>\n",
       "      <th>1</th>\n",
       "      <td>Central</td>\n",
       "      <td>EAST AVE.</td>\n",
       "      <td>2017-01-04</td>\n",
       "      <td>14:05:00</td>\n",
       "      <td>PHYSICAL INJURIES</td>\n",
       "      <td>PERSONS</td>\n",
       "    </tr>\n",
       "    <tr>\n",
       "      <th>2</th>\n",
       "      <td>Central</td>\n",
       "      <td>ELLIPTICAL RD.</td>\n",
       "      <td>2017-01-05</td>\n",
       "      <td>00:00:00</td>\n",
       "      <td>THEFT</td>\n",
       "      <td>PROPERTY</td>\n",
       "    </tr>\n",
       "    <tr>\n",
       "      <th>3</th>\n",
       "      <td>Central</td>\n",
       "      <td>ELLIPTICAL RD.</td>\n",
       "      <td>2017-01-05</td>\n",
       "      <td>19:00:00</td>\n",
       "      <td>ROBBERY</td>\n",
       "      <td>PROPERTY</td>\n",
       "    </tr>\n",
       "    <tr>\n",
       "      <th>4</th>\n",
       "      <td>Pinyahan</td>\n",
       "      <td>EDSA</td>\n",
       "      <td>2017-01-08</td>\n",
       "      <td>15:00:00</td>\n",
       "      <td>ROBBERY</td>\n",
       "      <td>PROPERTY</td>\n",
       "    </tr>\n",
       "  </tbody>\n",
       "</table>\n",
       "</div>"
      ],
      "text/plain": [
       "   barangay          street date_committed time_committed            offense  \\\n",
       "0  Kamuning       K-5TH ST.     2017-01-01       04:00:00  PHYSICAL INJURIES   \n",
       "1   Central       EAST AVE.     2017-01-04       14:05:00  PHYSICAL INJURIES   \n",
       "2   Central  ELLIPTICAL RD.     2017-01-05       00:00:00              THEFT   \n",
       "3   Central  ELLIPTICAL RD.     2017-01-05       19:00:00            ROBBERY   \n",
       "4  Pinyahan            EDSA     2017-01-08       15:00:00            ROBBERY   \n",
       "\n",
       "  crime_category  \n",
       "0        PERSONS  \n",
       "1        PERSONS  \n",
       "2       PROPERTY  \n",
       "3       PROPERTY  \n",
       "4       PROPERTY  "
      ]
     },
     "execution_count": 21,
     "metadata": {},
     "output_type": "execute_result"
    }
   ],
   "source": [
    "rename2drop.head()"
   ]
  },
  {
   "cell_type": "code",
   "execution_count": 22,
   "metadata": {},
   "outputs": [
    {
     "name": "stdout",
     "output_type": "stream",
     "text": [
      "<class 'pandas.core.frame.DataFrame'>\n",
      "RangeIndex: 1029 entries, 0 to 1028\n",
      "Data columns (total 6 columns):\n",
      "barangay          1029 non-null object\n",
      "street            931 non-null object\n",
      "date_committed    1029 non-null datetime64[ns]\n",
      "time_committed    1029 non-null object\n",
      "offense           1029 non-null object\n",
      "crime_category    1029 non-null object\n",
      "dtypes: datetime64[ns](1), object(5)\n",
      "memory usage: 48.3+ KB\n"
     ]
    }
   ],
   "source": [
    "rename2drop.info()"
   ]
  },
  {
   "cell_type": "markdown",
   "metadata": {},
   "source": [
    "### COMBINE TWO DATAFRAMES (crime1 & crime2new)"
   ]
  },
  {
   "cell_type": "code",
   "execution_count": 23,
   "metadata": {},
   "outputs": [],
   "source": [
    "crimedata = pd.concat([rename2drop, rename1])"
   ]
  },
  {
   "cell_type": "code",
   "execution_count": 24,
   "metadata": {},
   "outputs": [
    {
     "data": {
      "text/html": [
       "<div>\n",
       "<style scoped>\n",
       "    .dataframe tbody tr th:only-of-type {\n",
       "        vertical-align: middle;\n",
       "    }\n",
       "\n",
       "    .dataframe tbody tr th {\n",
       "        vertical-align: top;\n",
       "    }\n",
       "\n",
       "    .dataframe thead th {\n",
       "        text-align: right;\n",
       "    }\n",
       "</style>\n",
       "<table border=\"1\" class=\"dataframe\">\n",
       "  <thead>\n",
       "    <tr style=\"text-align: right;\">\n",
       "      <th></th>\n",
       "      <th>Types of Offenses</th>\n",
       "    </tr>\n",
       "  </thead>\n",
       "  <tbody>\n",
       "    <tr>\n",
       "      <th>0</th>\n",
       "      <td>PHYSICAL INJURIES</td>\n",
       "    </tr>\n",
       "    <tr>\n",
       "      <th>1</th>\n",
       "      <td>THEFT</td>\n",
       "    </tr>\n",
       "    <tr>\n",
       "      <th>2</th>\n",
       "      <td>ROBBERY</td>\n",
       "    </tr>\n",
       "    <tr>\n",
       "      <th>3</th>\n",
       "      <td>CARNAPPING</td>\n",
       "    </tr>\n",
       "    <tr>\n",
       "      <th>4</th>\n",
       "      <td>MOTORNAPPING</td>\n",
       "    </tr>\n",
       "    <tr>\n",
       "      <th>5</th>\n",
       "      <td>MURDER</td>\n",
       "    </tr>\n",
       "    <tr>\n",
       "      <th>6</th>\n",
       "      <td>RAPE</td>\n",
       "    </tr>\n",
       "    <tr>\n",
       "      <th>7</th>\n",
       "      <td>HOMICIDE</td>\n",
       "    </tr>\n",
       "  </tbody>\n",
       "</table>\n",
       "</div>"
      ],
      "text/plain": [
       "   Types of Offenses\n",
       "0  PHYSICAL INJURIES\n",
       "1              THEFT\n",
       "2            ROBBERY\n",
       "3         CARNAPPING\n",
       "4       MOTORNAPPING\n",
       "5             MURDER\n",
       "6               RAPE\n",
       "7           HOMICIDE"
      ]
     },
     "execution_count": 24,
     "metadata": {},
     "output_type": "execute_result"
    }
   ],
   "source": [
    "offense = crimedata.offense.unique()\n",
    "pd.DataFrame(offense, columns=[\"Types of Offenses\"])"
   ]
  },
  {
   "cell_type": "code",
   "execution_count": 25,
   "metadata": {},
   "outputs": [
    {
     "data": {
      "text/html": [
       "<div>\n",
       "<style scoped>\n",
       "    .dataframe tbody tr th:only-of-type {\n",
       "        vertical-align: middle;\n",
       "    }\n",
       "\n",
       "    .dataframe tbody tr th {\n",
       "        vertical-align: top;\n",
       "    }\n",
       "\n",
       "    .dataframe thead th {\n",
       "        text-align: right;\n",
       "    }\n",
       "</style>\n",
       "<table border=\"1\" class=\"dataframe\">\n",
       "  <thead>\n",
       "    <tr style=\"text-align: right;\">\n",
       "      <th></th>\n",
       "      <th>Barangays</th>\n",
       "    </tr>\n",
       "  </thead>\n",
       "  <tbody>\n",
       "    <tr>\n",
       "      <th>0</th>\n",
       "      <td>Kamuning</td>\n",
       "    </tr>\n",
       "    <tr>\n",
       "      <th>1</th>\n",
       "      <td>Central</td>\n",
       "    </tr>\n",
       "    <tr>\n",
       "      <th>2</th>\n",
       "      <td>Pinyahan</td>\n",
       "    </tr>\n",
       "    <tr>\n",
       "      <th>3</th>\n",
       "      <td>South Triangle</td>\n",
       "    </tr>\n",
       "    <tr>\n",
       "      <th>4</th>\n",
       "      <td>Paligsahan</td>\n",
       "    </tr>\n",
       "    <tr>\n",
       "      <th>5</th>\n",
       "      <td>Sacred Heart</td>\n",
       "    </tr>\n",
       "    <tr>\n",
       "      <th>6</th>\n",
       "      <td>Roxas</td>\n",
       "    </tr>\n",
       "    <tr>\n",
       "      <th>7</th>\n",
       "      <td>Pinagkaisahan</td>\n",
       "    </tr>\n",
       "    <tr>\n",
       "      <th>8</th>\n",
       "      <td>Obrero</td>\n",
       "    </tr>\n",
       "    <tr>\n",
       "      <th>9</th>\n",
       "      <td>Immaculate Concepcion</td>\n",
       "    </tr>\n",
       "    <tr>\n",
       "      <th>10</th>\n",
       "      <td>Laging Handa</td>\n",
       "    </tr>\n",
       "  </tbody>\n",
       "</table>\n",
       "</div>"
      ],
      "text/plain": [
       "                Barangays\n",
       "0                Kamuning\n",
       "1                 Central\n",
       "2                Pinyahan\n",
       "3          South Triangle\n",
       "4              Paligsahan\n",
       "5            Sacred Heart\n",
       "6                   Roxas\n",
       "7           Pinagkaisahan\n",
       "8                  Obrero\n",
       "9   Immaculate Concepcion\n",
       "10           Laging Handa"
      ]
     },
     "execution_count": 25,
     "metadata": {},
     "output_type": "execute_result"
    }
   ],
   "source": [
    "barangay = crimedata.barangay.unique()\n",
    "pd.DataFrame(barangay, columns=[\"Barangays\"])"
   ]
  },
  {
   "cell_type": "code",
   "execution_count": 26,
   "metadata": {},
   "outputs": [
    {
     "data": {
      "text/html": [
       "<div>\n",
       "<style scoped>\n",
       "    .dataframe tbody tr th:only-of-type {\n",
       "        vertical-align: middle;\n",
       "    }\n",
       "\n",
       "    .dataframe tbody tr th {\n",
       "        vertical-align: top;\n",
       "    }\n",
       "\n",
       "    .dataframe thead th {\n",
       "        text-align: right;\n",
       "    }\n",
       "</style>\n",
       "<table border=\"1\" class=\"dataframe\">\n",
       "  <thead>\n",
       "    <tr style=\"text-align: right;\">\n",
       "      <th></th>\n",
       "      <th>Types of Offenses</th>\n",
       "    </tr>\n",
       "  </thead>\n",
       "  <tbody>\n",
       "    <tr>\n",
       "      <th>0</th>\n",
       "      <td>PERSONS</td>\n",
       "    </tr>\n",
       "    <tr>\n",
       "      <th>1</th>\n",
       "      <td>PROPERTY</td>\n",
       "    </tr>\n",
       "    <tr>\n",
       "      <th>2</th>\n",
       "      <td>SPECIAL LAWS</td>\n",
       "    </tr>\n",
       "  </tbody>\n",
       "</table>\n",
       "</div>"
      ],
      "text/plain": [
       "  Types of Offenses\n",
       "0           PERSONS\n",
       "1          PROPERTY\n",
       "2      SPECIAL LAWS"
      ]
     },
     "execution_count": 26,
     "metadata": {},
     "output_type": "execute_result"
    }
   ],
   "source": [
    "crime_categ = crimedata.crime_category.unique()\n",
    "pd.DataFrame(crime_categ, columns=[\"Types of Offenses\"])"
   ]
  },
  {
   "cell_type": "code",
   "execution_count": 27,
   "metadata": {},
   "outputs": [],
   "source": [
    "st_rename = crimedata.replace({'BIR ROAD': 'BIR RD.', \n",
    "                         'SCOUT BAYORAN ST': 'SCOUT BAYORAN ST.',\n",
    "                         'SCOUT CHUATOCO ST': 'SCOUT CHUATOCO ST.',\n",
    "                         'MOTHER IGNACIA AVE': 'MOTHER IGNACIA AVE.'})"
   ]
  },
  {
   "cell_type": "code",
   "execution_count": 28,
   "metadata": {},
   "outputs": [
    {
     "data": {
      "text/plain": [
       "63              11TH JAMBOREE ST.\n",
       "36                   AURORA BLVD.\n",
       "94                     AZUCENA ST\n",
       "122                   BEGONIA ST.\n",
       "115         BETTY GO-BELMONTE ST.\n",
       "22                        BIR RD.\n",
       "104                    BOSTON ST.\n",
       "128            CADENA DE AMOR ST.\n",
       "96                    CHICAGO ST.\n",
       "127                    DAHLIA ST.\n",
       "99                     DENVER ST.\n",
       "92                    DETROIT ST.\n",
       "84             DOCTOR LAZCANO ST.\n",
       "35              DON A. ROCES AVE.\n",
       "79           DON ALFREDO EGEA ST.\n",
       "1                       EAST AVE.\n",
       "3                            EDSA\n",
       "2                  ELLIPTICAL RD.\n",
       "87              ERMIN GARCIA AVE.\n",
       "44               ERMIN GARCIA ST.\n",
       "97            EUGENIO LOPEZ DRIVE\n",
       "33     EULOGIO RODRIGUEZ SR. AVE.\n",
       "74                EVERLASTING ST.\n",
       "65            FATHER MARTINEZ ST.\n",
       "45               FELIX MANALO ST.\n",
       "82                   GLADIOLA ST.\n",
       "41                   GUMAMELA ST.\n",
       "77                  HILLCREST ST.\n",
       "118                  HYACINTH ST.\n",
       "88                ILANG-ILANG ST.\n",
       "                  ...            \n",
       "71            SCOUT FERNANDEZ ST.\n",
       "32        SCOUT FUENTEBELLA EXTN.\n",
       "100         SCOUT FUENTEBELLA ST.\n",
       "23               SCOUT GANDIA ST.\n",
       "107           SCOUT LIMBAGA EXTN.\n",
       "25              SCOUT LIMBAGA ST.\n",
       "37               SCOUT LOZANO ST.\n",
       "117               SCOUT OJEDA ST.\n",
       "61             SCOUT RALLOS EXTN.\n",
       "66               SCOUT RALLOS ST.\n",
       "102               SCOUT REYES ST.\n",
       "49             SCOUT SANTIAGO ST.\n",
       "31               SCOUT TOBIAS ST.\n",
       "43              SCOUT TORILLO ST.\n",
       "12               SCOUT TUAZON ST.\n",
       "68           SCOUT YBARDOLAZA ST.\n",
       "95                    SEATTLE ST.\n",
       "10             SGT. ESGUERRA AVE.\n",
       "58            SGT. J. CATOLOS ST.\n",
       "131                  SOUTH EE ST.\n",
       "20                    SPENCER ST.\n",
       "51              TEODORO GENER ST.\n",
       "6                      TIMOG AVE.\n",
       "7               TOMAS MORATO AVE.\n",
       "54                      TULIP ST.\n",
       "73                      UMBEL ST.\n",
       "47                   V. LUNA AVE.\n",
       "126                   VIOLETA ST.\n",
       "101             WALING-WALING ST.\n",
       "29                            NaN\n",
       "Name: Streets, Length: 132, dtype: object"
      ]
     },
     "execution_count": 28,
     "metadata": {},
     "output_type": "execute_result"
    }
   ],
   "source": [
    "street = st_rename.street.unique()\n",
    "table_street = pd.DataFrame(street, columns=[\"Streets\"])\n",
    "table_street['Streets'].sort_values()"
   ]
  },
  {
   "cell_type": "markdown",
   "metadata": {},
   "source": [
    "### Remove Null Values"
   ]
  },
  {
   "cell_type": "code",
   "execution_count": 29,
   "metadata": {
    "scrolled": true
   },
   "outputs": [
    {
     "data": {
      "text/plain": [
       "barangay            0\n",
       "street            125\n",
       "date_committed      0\n",
       "time_committed      0\n",
       "offense             0\n",
       "crime_category      0\n",
       "dtype: int64"
      ]
     },
     "execution_count": 29,
     "metadata": {},
     "output_type": "execute_result"
    }
   ],
   "source": [
    "st_rename.isnull().sum()"
   ]
  },
  {
   "cell_type": "code",
   "execution_count": 30,
   "metadata": {},
   "outputs": [],
   "source": [
    "crimeClean = st_rename.dropna()"
   ]
  },
  {
   "cell_type": "code",
   "execution_count": 31,
   "metadata": {},
   "outputs": [
    {
     "data": {
      "text/html": [
       "<div>\n",
       "<style scoped>\n",
       "    .dataframe tbody tr th:only-of-type {\n",
       "        vertical-align: middle;\n",
       "    }\n",
       "\n",
       "    .dataframe tbody tr th {\n",
       "        vertical-align: top;\n",
       "    }\n",
       "\n",
       "    .dataframe thead th {\n",
       "        text-align: right;\n",
       "    }\n",
       "</style>\n",
       "<table border=\"1\" class=\"dataframe\">\n",
       "  <thead>\n",
       "    <tr style=\"text-align: right;\">\n",
       "      <th></th>\n",
       "      <th>barangay</th>\n",
       "      <th>street</th>\n",
       "      <th>date_committed</th>\n",
       "      <th>time_committed</th>\n",
       "      <th>offense</th>\n",
       "      <th>crime_category</th>\n",
       "    </tr>\n",
       "  </thead>\n",
       "  <tbody>\n",
       "    <tr>\n",
       "      <th>count</th>\n",
       "      <td>1663</td>\n",
       "      <td>1663</td>\n",
       "      <td>1663</td>\n",
       "      <td>1663</td>\n",
       "      <td>1663</td>\n",
       "      <td>1663</td>\n",
       "    </tr>\n",
       "    <tr>\n",
       "      <th>unique</th>\n",
       "      <td>11</td>\n",
       "      <td>131</td>\n",
       "      <td>825</td>\n",
       "      <td>250</td>\n",
       "      <td>8</td>\n",
       "      <td>3</td>\n",
       "    </tr>\n",
       "    <tr>\n",
       "      <th>top</th>\n",
       "      <td>South Triangle</td>\n",
       "      <td>EDSA</td>\n",
       "      <td>2016-04-28 00:00:00</td>\n",
       "      <td>00:00:00</td>\n",
       "      <td>THEFT</td>\n",
       "      <td>PROPERTY</td>\n",
       "    </tr>\n",
       "    <tr>\n",
       "      <th>freq</th>\n",
       "      <td>395</td>\n",
       "      <td>199</td>\n",
       "      <td>7</td>\n",
       "      <td>299</td>\n",
       "      <td>723</td>\n",
       "      <td>1040</td>\n",
       "    </tr>\n",
       "    <tr>\n",
       "      <th>first</th>\n",
       "      <td>NaN</td>\n",
       "      <td>NaN</td>\n",
       "      <td>2016-01-01 00:00:00</td>\n",
       "      <td>NaN</td>\n",
       "      <td>NaN</td>\n",
       "      <td>NaN</td>\n",
       "    </tr>\n",
       "    <tr>\n",
       "      <th>last</th>\n",
       "      <td>NaN</td>\n",
       "      <td>NaN</td>\n",
       "      <td>2018-12-31 00:00:00</td>\n",
       "      <td>NaN</td>\n",
       "      <td>NaN</td>\n",
       "      <td>NaN</td>\n",
       "    </tr>\n",
       "  </tbody>\n",
       "</table>\n",
       "</div>"
      ],
      "text/plain": [
       "              barangay street       date_committed time_committed offense  \\\n",
       "count             1663   1663                 1663           1663    1663   \n",
       "unique              11    131                  825            250       8   \n",
       "top     South Triangle   EDSA  2016-04-28 00:00:00       00:00:00   THEFT   \n",
       "freq               395    199                    7            299     723   \n",
       "first              NaN    NaN  2016-01-01 00:00:00            NaN     NaN   \n",
       "last               NaN    NaN  2018-12-31 00:00:00            NaN     NaN   \n",
       "\n",
       "       crime_category  \n",
       "count            1663  \n",
       "unique              3  \n",
       "top          PROPERTY  \n",
       "freq             1040  \n",
       "first             NaN  \n",
       "last              NaN  "
      ]
     },
     "execution_count": 31,
     "metadata": {},
     "output_type": "execute_result"
    }
   ],
   "source": [
    "crimeClean.describe()"
   ]
  },
  {
   "cell_type": "code",
   "execution_count": 32,
   "metadata": {},
   "outputs": [
    {
     "name": "stdout",
     "output_type": "stream",
     "text": [
      "<class 'pandas.core.frame.DataFrame'>\n",
      "Int64Index: 1663 entries, 0 to 758\n",
      "Data columns (total 6 columns):\n",
      "barangay          1663 non-null object\n",
      "street            1663 non-null object\n",
      "date_committed    1663 non-null datetime64[ns]\n",
      "time_committed    1663 non-null object\n",
      "offense           1663 non-null object\n",
      "crime_category    1663 non-null object\n",
      "dtypes: datetime64[ns](1), object(5)\n",
      "memory usage: 90.9+ KB\n"
     ]
    }
   ],
   "source": [
    "crimeClean.info()"
   ]
  },
  {
   "cell_type": "markdown",
   "metadata": {},
   "source": [
    "### Correct Datatypes"
   ]
  },
  {
   "cell_type": "code",
   "execution_count": 33,
   "metadata": {},
   "outputs": [],
   "source": [
    "import datetime as dt\n",
    "import matplotlib.pyplot as plt\n",
    "import seaborn as sns\n",
    "sns.set_style(\"whitegrid\")\n",
    "sns.set_context(\"poster\")\n",
    "\n",
    "from scipy.stats import norm\n",
    "from scipy import stats\n",
    "import warnings\n",
    "warnings.filterwarnings('ignore')\n",
    "%matplotlib inline\n",
    "\n",
    "# Set Options for display\n",
    "pd.options.display.max_rows = 100\n",
    "pd.options.display.max_columns = 100\n",
    "pd.options.display.float_format = '{:.2f}'.format"
   ]
  },
  {
   "cell_type": "code",
   "execution_count": 35,
   "metadata": {},
   "outputs": [
    {
     "data": {
      "text/plain": [
       "(1663, 6)"
      ]
     },
     "execution_count": 35,
     "metadata": {},
     "output_type": "execute_result"
    }
   ],
   "source": [
    "crimeClean.shape"
   ]
  },
  {
   "cell_type": "code",
   "execution_count": 36,
   "metadata": {},
   "outputs": [
    {
     "data": {
      "text/html": [
       "<div>\n",
       "<style scoped>\n",
       "    .dataframe tbody tr th:only-of-type {\n",
       "        vertical-align: middle;\n",
       "    }\n",
       "\n",
       "    .dataframe tbody tr th {\n",
       "        vertical-align: top;\n",
       "    }\n",
       "\n",
       "    .dataframe thead th {\n",
       "        text-align: right;\n",
       "    }\n",
       "</style>\n",
       "<table border=\"1\" class=\"dataframe\">\n",
       "  <thead>\n",
       "    <tr style=\"text-align: right;\">\n",
       "      <th></th>\n",
       "      <th>barangay</th>\n",
       "      <th>street</th>\n",
       "      <th>date_committed</th>\n",
       "      <th>time_committed</th>\n",
       "      <th>offense</th>\n",
       "      <th>crime_category</th>\n",
       "    </tr>\n",
       "  </thead>\n",
       "  <tbody>\n",
       "    <tr>\n",
       "      <th>count</th>\n",
       "      <td>1663</td>\n",
       "      <td>1663</td>\n",
       "      <td>1663</td>\n",
       "      <td>1663</td>\n",
       "      <td>1663</td>\n",
       "      <td>1663</td>\n",
       "    </tr>\n",
       "    <tr>\n",
       "      <th>unique</th>\n",
       "      <td>11</td>\n",
       "      <td>131</td>\n",
       "      <td>825</td>\n",
       "      <td>250</td>\n",
       "      <td>8</td>\n",
       "      <td>3</td>\n",
       "    </tr>\n",
       "    <tr>\n",
       "      <th>top</th>\n",
       "      <td>South Triangle</td>\n",
       "      <td>EDSA</td>\n",
       "      <td>2016-04-28 00:00:00</td>\n",
       "      <td>1900-01-01 00:00:00</td>\n",
       "      <td>THEFT</td>\n",
       "      <td>PROPERTY</td>\n",
       "    </tr>\n",
       "    <tr>\n",
       "      <th>freq</th>\n",
       "      <td>395</td>\n",
       "      <td>199</td>\n",
       "      <td>7</td>\n",
       "      <td>299</td>\n",
       "      <td>723</td>\n",
       "      <td>1040</td>\n",
       "    </tr>\n",
       "    <tr>\n",
       "      <th>first</th>\n",
       "      <td>NaN</td>\n",
       "      <td>NaN</td>\n",
       "      <td>2016-01-01 00:00:00</td>\n",
       "      <td>1900-01-01 00:00:00</td>\n",
       "      <td>NaN</td>\n",
       "      <td>NaN</td>\n",
       "    </tr>\n",
       "    <tr>\n",
       "      <th>last</th>\n",
       "      <td>NaN</td>\n",
       "      <td>NaN</td>\n",
       "      <td>2018-12-31 00:00:00</td>\n",
       "      <td>1900-01-01 23:56:00</td>\n",
       "      <td>NaN</td>\n",
       "      <td>NaN</td>\n",
       "    </tr>\n",
       "  </tbody>\n",
       "</table>\n",
       "</div>"
      ],
      "text/plain": [
       "              barangay street       date_committed       time_committed  \\\n",
       "count             1663   1663                 1663                 1663   \n",
       "unique              11    131                  825                  250   \n",
       "top     South Triangle   EDSA  2016-04-28 00:00:00  1900-01-01 00:00:00   \n",
       "freq               395    199                    7                  299   \n",
       "first              NaN    NaN  2016-01-01 00:00:00  1900-01-01 00:00:00   \n",
       "last               NaN    NaN  2018-12-31 00:00:00  1900-01-01 23:56:00   \n",
       "\n",
       "       offense crime_category  \n",
       "count     1663           1663  \n",
       "unique       8              3  \n",
       "top      THEFT       PROPERTY  \n",
       "freq       723           1040  \n",
       "first      NaN            NaN  \n",
       "last       NaN            NaN  "
      ]
     },
     "execution_count": 36,
     "metadata": {},
     "output_type": "execute_result"
    }
   ],
   "source": [
    "crimeClean.describe(include='all')"
   ]
  },
  {
   "cell_type": "markdown",
   "metadata": {},
   "source": [
    "##  Check Duplicates"
   ]
  },
  {
   "cell_type": "code",
   "execution_count": 37,
   "metadata": {},
   "outputs": [
    {
     "name": "stdout",
     "output_type": "stream",
     "text": [
      "Duplicates: 2\n"
     ]
    }
   ],
   "source": [
    "print('Duplicates: {}'.format(crimeClean.duplicated().sum()))  #Check if ID is duplicated"
   ]
  },
  {
   "cell_type": "code",
   "execution_count": 38,
   "metadata": {},
   "outputs": [],
   "source": [
    "crimereport = crimeClean.drop_duplicates(subset=None, keep='first')"
   ]
  },
  {
   "cell_type": "code",
   "execution_count": 39,
   "metadata": {},
   "outputs": [
    {
     "data": {
      "text/plain": [
       "0"
      ]
     },
     "execution_count": 39,
     "metadata": {},
     "output_type": "execute_result"
    }
   ],
   "source": [
    "crimereport.duplicated().sum()"
   ]
  },
  {
   "cell_type": "code",
   "execution_count": 40,
   "metadata": {},
   "outputs": [
    {
     "name": "stdout",
     "output_type": "stream",
     "text": [
      "<class 'pandas.core.frame.DataFrame'>\n",
      "Int64Index: 1661 entries, 0 to 758\n",
      "Data columns (total 6 columns):\n",
      "barangay          1661 non-null object\n",
      "street            1661 non-null object\n",
      "date_committed    1661 non-null datetime64[ns]\n",
      "time_committed    1661 non-null datetime64[ns]\n",
      "offense           1661 non-null object\n",
      "crime_category    1661 non-null object\n",
      "dtypes: datetime64[ns](2), object(4)\n",
      "memory usage: 90.8+ KB\n"
     ]
    }
   ],
   "source": [
    "crimereport.info()"
   ]
  },
  {
   "cell_type": "code",
   "execution_count": 41,
   "metadata": {},
   "outputs": [],
   "source": [
    "crimereport.to_excel('CrimeReportClean.xlsx')"
   ]
  },
  {
   "cell_type": "markdown",
   "metadata": {},
   "source": [
    "## Feature Engineering"
   ]
  },
  {
   "cell_type": "markdown",
   "metadata": {},
   "source": [
    "#### YEAR"
   ]
  },
  {
   "cell_type": "code",
   "execution_count": 42,
   "metadata": {},
   "outputs": [],
   "source": [
    "crimereport['year'] = crimereport['date_committed'].dt.year"
   ]
  },
  {
   "cell_type": "markdown",
   "metadata": {},
   "source": [
    "#### MONTH"
   ]
  },
  {
   "cell_type": "code",
   "execution_count": 82,
   "metadata": {},
   "outputs": [],
   "source": [
    "crimereport['month'] = crimereport['date_committed'].dt.month"
   ]
  },
  {
   "cell_type": "markdown",
   "metadata": {},
   "source": [
    "##### DAY_OF_WEEK"
   ]
  },
  {
   "cell_type": "code",
   "execution_count": 44,
   "metadata": {},
   "outputs": [],
   "source": [
    "crimereport['day_of_week'] = crimereport['date_committed'].dt.dayofweek"
   ]
  },
  {
   "cell_type": "markdown",
   "metadata": {},
   "source": [
    "#### HOUR / PART_OF_DAY"
   ]
  },
  {
   "cell_type": "code",
   "execution_count": 45,
   "metadata": {},
   "outputs": [],
   "source": [
    "crimereport['hour']=crimereport['time_committed'].dt.hour"
   ]
  },
  {
   "cell_type": "code",
   "execution_count": 77,
   "metadata": {},
   "outputs": [],
   "source": [
    "crimereport['minute']=crimereport['time_committed'].dt.minute"
   ]
  },
  {
   "cell_type": "markdown",
   "metadata": {},
   "source": [
    "#### IS_WEEKEND"
   ]
  },
  {
   "cell_type": "code",
   "execution_count": 46,
   "metadata": {},
   "outputs": [],
   "source": [
    "weekno = crimereport['day_of_week']\n",
    "crimereport['is_weekend']=np.where(weekno>5, 'Yes', 'No')"
   ]
  },
  {
   "cell_type": "code",
   "execution_count": 83,
   "metadata": {},
   "outputs": [
    {
     "data": {
      "text/html": [
       "<div>\n",
       "<style scoped>\n",
       "    .dataframe tbody tr th:only-of-type {\n",
       "        vertical-align: middle;\n",
       "    }\n",
       "\n",
       "    .dataframe tbody tr th {\n",
       "        vertical-align: top;\n",
       "    }\n",
       "\n",
       "    .dataframe thead th {\n",
       "        text-align: right;\n",
       "    }\n",
       "</style>\n",
       "<table border=\"1\" class=\"dataframe\">\n",
       "  <thead>\n",
       "    <tr style=\"text-align: right;\">\n",
       "      <th></th>\n",
       "      <th>barangay</th>\n",
       "      <th>street</th>\n",
       "      <th>date_committed</th>\n",
       "      <th>time_committed</th>\n",
       "      <th>offense</th>\n",
       "      <th>crime_category</th>\n",
       "      <th>year</th>\n",
       "      <th>month</th>\n",
       "      <th>day_of_week</th>\n",
       "      <th>hour</th>\n",
       "      <th>is_weekend</th>\n",
       "      <th>minute</th>\n",
       "    </tr>\n",
       "  </thead>\n",
       "  <tbody>\n",
       "    <tr>\n",
       "      <th>0</th>\n",
       "      <td>Kamuning</td>\n",
       "      <td>K-5TH ST.</td>\n",
       "      <td>2017-01-01</td>\n",
       "      <td>1900-01-01 04:00:00</td>\n",
       "      <td>PHYSICAL INJURIES</td>\n",
       "      <td>PERSONS</td>\n",
       "      <td>2017</td>\n",
       "      <td>1</td>\n",
       "      <td>6</td>\n",
       "      <td>0</td>\n",
       "      <td>Yes</td>\n",
       "      <td>0</td>\n",
       "    </tr>\n",
       "    <tr>\n",
       "      <th>1</th>\n",
       "      <td>Central</td>\n",
       "      <td>EAST AVE.</td>\n",
       "      <td>2017-01-04</td>\n",
       "      <td>1900-01-01 14:05:00</td>\n",
       "      <td>PHYSICAL INJURIES</td>\n",
       "      <td>PERSONS</td>\n",
       "      <td>2017</td>\n",
       "      <td>1</td>\n",
       "      <td>2</td>\n",
       "      <td>5</td>\n",
       "      <td>No</td>\n",
       "      <td>5</td>\n",
       "    </tr>\n",
       "    <tr>\n",
       "      <th>2</th>\n",
       "      <td>Central</td>\n",
       "      <td>ELLIPTICAL RD.</td>\n",
       "      <td>2017-01-05</td>\n",
       "      <td>1900-01-01 00:00:00</td>\n",
       "      <td>THEFT</td>\n",
       "      <td>PROPERTY</td>\n",
       "      <td>2017</td>\n",
       "      <td>1</td>\n",
       "      <td>3</td>\n",
       "      <td>0</td>\n",
       "      <td>No</td>\n",
       "      <td>0</td>\n",
       "    </tr>\n",
       "    <tr>\n",
       "      <th>3</th>\n",
       "      <td>Central</td>\n",
       "      <td>ELLIPTICAL RD.</td>\n",
       "      <td>2017-01-05</td>\n",
       "      <td>1900-01-01 19:00:00</td>\n",
       "      <td>ROBBERY</td>\n",
       "      <td>PROPERTY</td>\n",
       "      <td>2017</td>\n",
       "      <td>1</td>\n",
       "      <td>3</td>\n",
       "      <td>0</td>\n",
       "      <td>No</td>\n",
       "      <td>0</td>\n",
       "    </tr>\n",
       "    <tr>\n",
       "      <th>4</th>\n",
       "      <td>Pinyahan</td>\n",
       "      <td>EDSA</td>\n",
       "      <td>2017-01-08</td>\n",
       "      <td>1900-01-01 15:00:00</td>\n",
       "      <td>ROBBERY</td>\n",
       "      <td>PROPERTY</td>\n",
       "      <td>2017</td>\n",
       "      <td>1</td>\n",
       "      <td>6</td>\n",
       "      <td>0</td>\n",
       "      <td>Yes</td>\n",
       "      <td>0</td>\n",
       "    </tr>\n",
       "    <tr>\n",
       "      <th>5</th>\n",
       "      <td>Pinyahan</td>\n",
       "      <td>EAST AVE.</td>\n",
       "      <td>2017-01-05</td>\n",
       "      <td>1900-01-01 13:30:00</td>\n",
       "      <td>ROBBERY</td>\n",
       "      <td>PROPERTY</td>\n",
       "      <td>2017</td>\n",
       "      <td>1</td>\n",
       "      <td>3</td>\n",
       "      <td>30</td>\n",
       "      <td>No</td>\n",
       "      <td>30</td>\n",
       "    </tr>\n",
       "    <tr>\n",
       "      <th>6</th>\n",
       "      <td>South Triangle</td>\n",
       "      <td>PANAY AVE.</td>\n",
       "      <td>2017-01-09</td>\n",
       "      <td>1900-01-01 03:40:00</td>\n",
       "      <td>PHYSICAL INJURIES</td>\n",
       "      <td>PERSONS</td>\n",
       "      <td>2017</td>\n",
       "      <td>1</td>\n",
       "      <td>0</td>\n",
       "      <td>40</td>\n",
       "      <td>No</td>\n",
       "      <td>40</td>\n",
       "    </tr>\n",
       "    <tr>\n",
       "      <th>7</th>\n",
       "      <td>Pinyahan</td>\n",
       "      <td>MAGALANG ST.</td>\n",
       "      <td>2017-01-11</td>\n",
       "      <td>1900-01-01 00:00:00</td>\n",
       "      <td>PHYSICAL INJURIES</td>\n",
       "      <td>PERSONS</td>\n",
       "      <td>2017</td>\n",
       "      <td>1</td>\n",
       "      <td>2</td>\n",
       "      <td>0</td>\n",
       "      <td>No</td>\n",
       "      <td>0</td>\n",
       "    </tr>\n",
       "    <tr>\n",
       "      <th>8</th>\n",
       "      <td>Paligsahan</td>\n",
       "      <td>TIMOG AVE.</td>\n",
       "      <td>2017-01-11</td>\n",
       "      <td>1900-01-01 18:30:00</td>\n",
       "      <td>THEFT</td>\n",
       "      <td>PROPERTY</td>\n",
       "      <td>2017</td>\n",
       "      <td>1</td>\n",
       "      <td>2</td>\n",
       "      <td>30</td>\n",
       "      <td>No</td>\n",
       "      <td>30</td>\n",
       "    </tr>\n",
       "    <tr>\n",
       "      <th>9</th>\n",
       "      <td>Sacred Heart</td>\n",
       "      <td>TOMAS MORATO AVE.</td>\n",
       "      <td>2017-01-13</td>\n",
       "      <td>1900-01-01 03:00:00</td>\n",
       "      <td>PHYSICAL INJURIES</td>\n",
       "      <td>PERSONS</td>\n",
       "      <td>2017</td>\n",
       "      <td>1</td>\n",
       "      <td>4</td>\n",
       "      <td>0</td>\n",
       "      <td>No</td>\n",
       "      <td>0</td>\n",
       "    </tr>\n",
       "    <tr>\n",
       "      <th>10</th>\n",
       "      <td>South Triangle</td>\n",
       "      <td>PANAY AVE.</td>\n",
       "      <td>2017-01-13</td>\n",
       "      <td>1900-01-01 17:00:00</td>\n",
       "      <td>CARNAPPING</td>\n",
       "      <td>SPECIAL LAWS</td>\n",
       "      <td>2017</td>\n",
       "      <td>1</td>\n",
       "      <td>4</td>\n",
       "      <td>0</td>\n",
       "      <td>No</td>\n",
       "      <td>0</td>\n",
       "    </tr>\n",
       "    <tr>\n",
       "      <th>11</th>\n",
       "      <td>Pinyahan</td>\n",
       "      <td>MAPAGBIGAY ST.</td>\n",
       "      <td>2017-01-14</td>\n",
       "      <td>1900-01-01 14:30:00</td>\n",
       "      <td>PHYSICAL INJURIES</td>\n",
       "      <td>PERSONS</td>\n",
       "      <td>2017</td>\n",
       "      <td>1</td>\n",
       "      <td>5</td>\n",
       "      <td>30</td>\n",
       "      <td>No</td>\n",
       "      <td>30</td>\n",
       "    </tr>\n",
       "    <tr>\n",
       "      <th>12</th>\n",
       "      <td>Roxas</td>\n",
       "      <td>SCOUT CHUATOCO ST.</td>\n",
       "      <td>2017-01-15</td>\n",
       "      <td>1900-01-01 20:00:00</td>\n",
       "      <td>PHYSICAL INJURIES</td>\n",
       "      <td>PERSONS</td>\n",
       "      <td>2017</td>\n",
       "      <td>1</td>\n",
       "      <td>6</td>\n",
       "      <td>0</td>\n",
       "      <td>Yes</td>\n",
       "      <td>0</td>\n",
       "    </tr>\n",
       "    <tr>\n",
       "      <th>13</th>\n",
       "      <td>South Triangle</td>\n",
       "      <td>SGT. ESGUERRA AVE.</td>\n",
       "      <td>2017-01-14</td>\n",
       "      <td>1900-01-01 13:00:00</td>\n",
       "      <td>THEFT</td>\n",
       "      <td>PROPERTY</td>\n",
       "      <td>2017</td>\n",
       "      <td>1</td>\n",
       "      <td>5</td>\n",
       "      <td>0</td>\n",
       "      <td>No</td>\n",
       "      <td>0</td>\n",
       "    </tr>\n",
       "    <tr>\n",
       "      <th>14</th>\n",
       "      <td>Pinyahan</td>\n",
       "      <td>MATAPAT ST.</td>\n",
       "      <td>2017-01-14</td>\n",
       "      <td>1900-01-01 07:00:00</td>\n",
       "      <td>THEFT</td>\n",
       "      <td>PROPERTY</td>\n",
       "      <td>2017</td>\n",
       "      <td>1</td>\n",
       "      <td>5</td>\n",
       "      <td>0</td>\n",
       "      <td>No</td>\n",
       "      <td>0</td>\n",
       "    </tr>\n",
       "    <tr>\n",
       "      <th>15</th>\n",
       "      <td>South Triangle</td>\n",
       "      <td>SCOUT TUAZON ST.</td>\n",
       "      <td>2017-01-18</td>\n",
       "      <td>1900-01-01 22:30:00</td>\n",
       "      <td>PHYSICAL INJURIES</td>\n",
       "      <td>PERSONS</td>\n",
       "      <td>2017</td>\n",
       "      <td>1</td>\n",
       "      <td>2</td>\n",
       "      <td>30</td>\n",
       "      <td>No</td>\n",
       "      <td>30</td>\n",
       "    </tr>\n",
       "    <tr>\n",
       "      <th>16</th>\n",
       "      <td>Pinagkaisahan</td>\n",
       "      <td>MARYLAND ST.</td>\n",
       "      <td>2017-01-20</td>\n",
       "      <td>1900-01-01 16:00:00</td>\n",
       "      <td>THEFT</td>\n",
       "      <td>PROPERTY</td>\n",
       "      <td>2017</td>\n",
       "      <td>1</td>\n",
       "      <td>4</td>\n",
       "      <td>0</td>\n",
       "      <td>No</td>\n",
       "      <td>0</td>\n",
       "    </tr>\n",
       "    <tr>\n",
       "      <th>17</th>\n",
       "      <td>South Triangle</td>\n",
       "      <td>PANAY AVE.</td>\n",
       "      <td>2017-01-21</td>\n",
       "      <td>1900-01-01 17:35:00</td>\n",
       "      <td>PHYSICAL INJURIES</td>\n",
       "      <td>PERSONS</td>\n",
       "      <td>2017</td>\n",
       "      <td>1</td>\n",
       "      <td>5</td>\n",
       "      <td>35</td>\n",
       "      <td>No</td>\n",
       "      <td>35</td>\n",
       "    </tr>\n",
       "    <tr>\n",
       "      <th>18</th>\n",
       "      <td>South Triangle</td>\n",
       "      <td>QUEZON AVE.</td>\n",
       "      <td>2017-01-21</td>\n",
       "      <td>1900-01-01 00:00:00</td>\n",
       "      <td>ROBBERY</td>\n",
       "      <td>PROPERTY</td>\n",
       "      <td>2017</td>\n",
       "      <td>1</td>\n",
       "      <td>5</td>\n",
       "      <td>0</td>\n",
       "      <td>No</td>\n",
       "      <td>0</td>\n",
       "    </tr>\n",
       "    <tr>\n",
       "      <th>19</th>\n",
       "      <td>Obrero</td>\n",
       "      <td>MAKABAYAN ST.</td>\n",
       "      <td>2017-01-21</td>\n",
       "      <td>1900-01-01 14:30:00</td>\n",
       "      <td>PHYSICAL INJURIES</td>\n",
       "      <td>PERSONS</td>\n",
       "      <td>2017</td>\n",
       "      <td>1</td>\n",
       "      <td>5</td>\n",
       "      <td>30</td>\n",
       "      <td>No</td>\n",
       "      <td>30</td>\n",
       "    </tr>\n",
       "  </tbody>\n",
       "</table>\n",
       "</div>"
      ],
      "text/plain": [
       "          barangay              street date_committed      time_committed  \\\n",
       "0         Kamuning           K-5TH ST.     2017-01-01 1900-01-01 04:00:00   \n",
       "1          Central           EAST AVE.     2017-01-04 1900-01-01 14:05:00   \n",
       "2          Central      ELLIPTICAL RD.     2017-01-05 1900-01-01 00:00:00   \n",
       "3          Central      ELLIPTICAL RD.     2017-01-05 1900-01-01 19:00:00   \n",
       "4         Pinyahan                EDSA     2017-01-08 1900-01-01 15:00:00   \n",
       "5         Pinyahan           EAST AVE.     2017-01-05 1900-01-01 13:30:00   \n",
       "6   South Triangle          PANAY AVE.     2017-01-09 1900-01-01 03:40:00   \n",
       "7         Pinyahan        MAGALANG ST.     2017-01-11 1900-01-01 00:00:00   \n",
       "8       Paligsahan          TIMOG AVE.     2017-01-11 1900-01-01 18:30:00   \n",
       "9     Sacred Heart   TOMAS MORATO AVE.     2017-01-13 1900-01-01 03:00:00   \n",
       "10  South Triangle          PANAY AVE.     2017-01-13 1900-01-01 17:00:00   \n",
       "11        Pinyahan      MAPAGBIGAY ST.     2017-01-14 1900-01-01 14:30:00   \n",
       "12           Roxas  SCOUT CHUATOCO ST.     2017-01-15 1900-01-01 20:00:00   \n",
       "13  South Triangle  SGT. ESGUERRA AVE.     2017-01-14 1900-01-01 13:00:00   \n",
       "14        Pinyahan         MATAPAT ST.     2017-01-14 1900-01-01 07:00:00   \n",
       "15  South Triangle    SCOUT TUAZON ST.     2017-01-18 1900-01-01 22:30:00   \n",
       "16   Pinagkaisahan        MARYLAND ST.     2017-01-20 1900-01-01 16:00:00   \n",
       "17  South Triangle          PANAY AVE.     2017-01-21 1900-01-01 17:35:00   \n",
       "18  South Triangle         QUEZON AVE.     2017-01-21 1900-01-01 00:00:00   \n",
       "19          Obrero       MAKABAYAN ST.     2017-01-21 1900-01-01 14:30:00   \n",
       "\n",
       "              offense crime_category  year  month  day_of_week  hour  \\\n",
       "0   PHYSICAL INJURIES        PERSONS  2017      1            6     0   \n",
       "1   PHYSICAL INJURIES        PERSONS  2017      1            2     5   \n",
       "2               THEFT       PROPERTY  2017      1            3     0   \n",
       "3             ROBBERY       PROPERTY  2017      1            3     0   \n",
       "4             ROBBERY       PROPERTY  2017      1            6     0   \n",
       "5             ROBBERY       PROPERTY  2017      1            3    30   \n",
       "6   PHYSICAL INJURIES        PERSONS  2017      1            0    40   \n",
       "7   PHYSICAL INJURIES        PERSONS  2017      1            2     0   \n",
       "8               THEFT       PROPERTY  2017      1            2    30   \n",
       "9   PHYSICAL INJURIES        PERSONS  2017      1            4     0   \n",
       "10         CARNAPPING   SPECIAL LAWS  2017      1            4     0   \n",
       "11  PHYSICAL INJURIES        PERSONS  2017      1            5    30   \n",
       "12  PHYSICAL INJURIES        PERSONS  2017      1            6     0   \n",
       "13              THEFT       PROPERTY  2017      1            5     0   \n",
       "14              THEFT       PROPERTY  2017      1            5     0   \n",
       "15  PHYSICAL INJURIES        PERSONS  2017      1            2    30   \n",
       "16              THEFT       PROPERTY  2017      1            4     0   \n",
       "17  PHYSICAL INJURIES        PERSONS  2017      1            5    35   \n",
       "18            ROBBERY       PROPERTY  2017      1            5     0   \n",
       "19  PHYSICAL INJURIES        PERSONS  2017      1            5    30   \n",
       "\n",
       "   is_weekend  minute  \n",
       "0         Yes       0  \n",
       "1          No       5  \n",
       "2          No       0  \n",
       "3          No       0  \n",
       "4         Yes       0  \n",
       "5          No      30  \n",
       "6          No      40  \n",
       "7          No       0  \n",
       "8          No      30  \n",
       "9          No       0  \n",
       "10         No       0  \n",
       "11         No      30  \n",
       "12        Yes       0  \n",
       "13         No       0  \n",
       "14         No       0  \n",
       "15         No      30  \n",
       "16         No       0  \n",
       "17         No      35  \n",
       "18         No       0  \n",
       "19         No      30  "
      ]
     },
     "execution_count": 83,
     "metadata": {},
     "output_type": "execute_result"
    }
   ],
   "source": [
    "crimereport.head(20)"
   ]
  },
  {
   "cell_type": "code",
   "execution_count": 85,
   "metadata": {},
   "outputs": [],
   "source": [
    "crimereport.to_excel('CrimeReport.xlsx')"
   ]
  },
  {
   "cell_type": "markdown",
   "metadata": {},
   "source": [
    "## Exploratory Data Analysis"
   ]
  },
  {
   "cell_type": "code",
   "execution_count": 276,
   "metadata": {},
   "outputs": [
    {
     "data": {
      "text/plain": [
       "<Figure size 720x360 with 0 Axes>"
      ]
     },
     "execution_count": 276,
     "metadata": {},
     "output_type": "execute_result"
    },
    {
     "data": {
      "text/plain": [
       "Text(0.5,1,'No. of Incidents by Type of Offense')"
      ]
     },
     "execution_count": 276,
     "metadata": {},
     "output_type": "execute_result"
    },
    {
     "data": {
      "text/plain": [
       "Text(0,0.5,'Types of Offenses')"
      ]
     },
     "execution_count": 276,
     "metadata": {},
     "output_type": "execute_result"
    },
    {
     "data": {
      "text/plain": [
       "Text(0.5,0,'Number of Incidents')"
      ]
     },
     "execution_count": 276,
     "metadata": {},
     "output_type": "execute_result"
    },
    {
     "data": {
      "image/png": "[encoded data removed]",
      "text/plain": [
       "<Figure size 720x360 with 1 Axes>"
      ]
     },
     "metadata": {
      "needs_background": "light"
     },
     "output_type": "display_data"
    }
   ],
   "source": [
    "offense  = crimereport['offense'].value_counts()\n",
    "offense = offense[:8,]\n",
    "plt.figure(figsize=(10,5))\n",
    "ax = sns.barplot(offense.values, offense.index, alpha=0.5)\n",
    "plt.title('No. of Incidents by Type of Offense')\n",
    "plt.ylabel('Types of Offenses', fontsize=12)\n",
    "plt.xlabel('Number of Incidents', fontsize=12)\n",
    "plt.show()"
   ]
  },
  {
   "cell_type": "code",
   "execution_count": 274,
   "metadata": {},
   "outputs": [
    {
     "data": {
      "text/plain": [
       "<Figure size 720x360 with 0 Axes>"
      ]
     },
     "execution_count": 274,
     "metadata": {},
     "output_type": "execute_result"
    },
    {
     "data": {
      "text/plain": [
       "Text(0.5,1,'Number of Incidents by Barangay')"
      ]
     },
     "execution_count": 274,
     "metadata": {},
     "output_type": "execute_result"
    },
    {
     "data": {
      "text/plain": [
       "Text(0,0.5,'Barangay')"
      ]
     },
     "execution_count": 274,
     "metadata": {},
     "output_type": "execute_result"
    },
    {
     "data": {
      "text/plain": [
       "Text(0.5,0,'Number of Incidents')"
      ]
     },
     "execution_count": 274,
     "metadata": {},
     "output_type": "execute_result"
    },
    {
     "data": {
      "image/png": "[encoded data removed]",
      "text/plain": [
       "<Figure size 720x360 with 1 Axes>"
      ]
     },
     "metadata": {
      "needs_background": "light"
     },
     "output_type": "display_data"
    }
   ],
   "source": [
    "brgy  = crimereport['barangay'].value_counts()\n",
    "brgy = brgy[:11,]\n",
    "plt.figure(figsize=(10,5))\n",
    "ax = sns.barplot(brgy.values, brgy.index, alpha=0.8)\n",
    "plt.title('Number of Incidents by Barangay')\n",
    "plt.ylabel('Barangay', fontsize=12)\n",
    "plt.xlabel('Number of Incidents', fontsize=12)\n",
    "plt.show()"
   ]
  },
  {
   "cell_type": "code",
   "execution_count": 55,
   "metadata": {},
   "outputs": [
    {
     "data": {
      "text/plain": [
       "2016    731\n",
       "2018    467\n",
       "2017    463\n",
       "Name: year, dtype: int64"
      ]
     },
     "execution_count": 55,
     "metadata": {},
     "output_type": "execute_result"
    }
   ],
   "source": [
    "crimereport['year'].value_counts()"
   ]
  },
  {
   "cell_type": "code",
   "execution_count": 95,
   "metadata": {},
   "outputs": [
    {
     "data": {
      "image/png": "[encoded data removed]",
      "text/plain": [
       "<Figure size 720x360 with 1 Axes>"
      ]
     },
     "metadata": {
      "needs_background": "light"
     },
     "output_type": "display_data"
    }
   ],
   "source": [
    "month = ['Jan', 'Feb', 'Mar', 'Apr','May', 'Jun', 'Jul', 'Aug', 'Sep', 'Oct', 'Nov', 'Dec']\n",
    "crimereport['month'] = pd.Categorical(crimereport['month'], ordered=True, categories=month)\n",
    "\n",
    "plt.figure(figsize=(10,5))\n",
    "#sns.lineplot(x=\"Month\",y=\"\",data = df.head(1100),color=\"BLACK\")\n",
    "#sns.lineplot(x=\"Month\",y=\"Heat Loss\",data = df.head(1100),color =\"RED\")"
   ]
  },
  {
   "cell_type": "code",
   "execution_count": 53,
   "metadata": {},
   "outputs": [
    {
     "data": {
      "image/png": "[encoded data removed]",
      "text/plain": [
       "<Figure size 720x360 with 1 Axes>"
      ]
     },
     "metadata": {
      "needs_background": "light"
     },
     "output_type": "display_data"
    }
   ],
   "source": [
    "is_wkend  = crimereport['is_weekend'].value_counts()\n",
    "offense = offense[:2,]\n",
    "plt.figure(figsize=(10,5))\n",
    "ax = sns.barplot(is_wkend.index, is_wkend.values, alpha=0.5)\n",
    "plt.title('No. of Incidents during Weekdays')\n",
    "plt.ylabel('Is Weekend', fontsize=12)\n",
    "plt.xlabel('Number of Incidents', fontsize=12)\n",
    "plt.show()"
   ]
  },
  {
   "cell_type": "code",
   "execution_count": 86,
   "metadata": {},
   "outputs": [],
   "source": [
    "df = pd.read_excel('CrimeReport.xlsx')"
   ]
  },
  {
   "cell_type": "code",
   "execution_count": 87,
   "metadata": {},
   "outputs": [
    {
     "data": {
      "text/html": [
       "<div>\n",
       "<style scoped>\n",
       "    .dataframe tbody tr th:only-of-type {\n",
       "        vertical-align: middle;\n",
       "    }\n",
       "\n",
       "    .dataframe tbody tr th {\n",
       "        vertical-align: top;\n",
       "    }\n",
       "\n",
       "    .dataframe thead th {\n",
       "        text-align: right;\n",
       "    }\n",
       "</style>\n",
       "<table border=\"1\" class=\"dataframe\">\n",
       "  <thead>\n",
       "    <tr style=\"text-align: right;\">\n",
       "      <th></th>\n",
       "      <th>barangay</th>\n",
       "      <th>street</th>\n",
       "      <th>date_committed</th>\n",
       "      <th>time_committed</th>\n",
       "      <th>offense</th>\n",
       "      <th>crime_category</th>\n",
       "      <th>year</th>\n",
       "      <th>month</th>\n",
       "      <th>day_of_week</th>\n",
       "      <th>hour</th>\n",
       "      <th>is_weekend</th>\n",
       "      <th>minute</th>\n",
       "    </tr>\n",
       "  </thead>\n",
       "  <tbody>\n",
       "    <tr>\n",
       "      <th>0</th>\n",
       "      <td>Kamuning</td>\n",
       "      <td>K-5TH ST.</td>\n",
       "      <td>2017-01-01</td>\n",
       "      <td>04:00:00</td>\n",
       "      <td>PHYSICAL INJURIES</td>\n",
       "      <td>PERSONS</td>\n",
       "      <td>2017</td>\n",
       "      <td>1</td>\n",
       "      <td>6</td>\n",
       "      <td>0</td>\n",
       "      <td>Yes</td>\n",
       "      <td>0</td>\n",
       "    </tr>\n",
       "    <tr>\n",
       "      <th>1</th>\n",
       "      <td>Central</td>\n",
       "      <td>EAST AVE.</td>\n",
       "      <td>2017-01-04</td>\n",
       "      <td>14:05:00</td>\n",
       "      <td>PHYSICAL INJURIES</td>\n",
       "      <td>PERSONS</td>\n",
       "      <td>2017</td>\n",
       "      <td>1</td>\n",
       "      <td>2</td>\n",
       "      <td>5</td>\n",
       "      <td>No</td>\n",
       "      <td>5</td>\n",
       "    </tr>\n",
       "    <tr>\n",
       "      <th>2</th>\n",
       "      <td>Central</td>\n",
       "      <td>ELLIPTICAL RD.</td>\n",
       "      <td>2017-01-05</td>\n",
       "      <td>00:00:00</td>\n",
       "      <td>THEFT</td>\n",
       "      <td>PROPERTY</td>\n",
       "      <td>2017</td>\n",
       "      <td>1</td>\n",
       "      <td>3</td>\n",
       "      <td>0</td>\n",
       "      <td>No</td>\n",
       "      <td>0</td>\n",
       "    </tr>\n",
       "    <tr>\n",
       "      <th>3</th>\n",
       "      <td>Central</td>\n",
       "      <td>ELLIPTICAL RD.</td>\n",
       "      <td>2017-01-05</td>\n",
       "      <td>19:00:00</td>\n",
       "      <td>ROBBERY</td>\n",
       "      <td>PROPERTY</td>\n",
       "      <td>2017</td>\n",
       "      <td>1</td>\n",
       "      <td>3</td>\n",
       "      <td>0</td>\n",
       "      <td>No</td>\n",
       "      <td>0</td>\n",
       "    </tr>\n",
       "    <tr>\n",
       "      <th>4</th>\n",
       "      <td>Pinyahan</td>\n",
       "      <td>EDSA</td>\n",
       "      <td>2017-01-08</td>\n",
       "      <td>15:00:00</td>\n",
       "      <td>ROBBERY</td>\n",
       "      <td>PROPERTY</td>\n",
       "      <td>2017</td>\n",
       "      <td>1</td>\n",
       "      <td>6</td>\n",
       "      <td>0</td>\n",
       "      <td>Yes</td>\n",
       "      <td>0</td>\n",
       "    </tr>\n",
       "    <tr>\n",
       "      <th>5</th>\n",
       "      <td>Pinyahan</td>\n",
       "      <td>EAST AVE.</td>\n",
       "      <td>2017-01-05</td>\n",
       "      <td>13:30:00</td>\n",
       "      <td>ROBBERY</td>\n",
       "      <td>PROPERTY</td>\n",
       "      <td>2017</td>\n",
       "      <td>1</td>\n",
       "      <td>3</td>\n",
       "      <td>30</td>\n",
       "      <td>No</td>\n",
       "      <td>30</td>\n",
       "    </tr>\n",
       "    <tr>\n",
       "      <th>6</th>\n",
       "      <td>South Triangle</td>\n",
       "      <td>PANAY AVE.</td>\n",
       "      <td>2017-01-09</td>\n",
       "      <td>03:40:00</td>\n",
       "      <td>PHYSICAL INJURIES</td>\n",
       "      <td>PERSONS</td>\n",
       "      <td>2017</td>\n",
       "      <td>1</td>\n",
       "      <td>0</td>\n",
       "      <td>40</td>\n",
       "      <td>No</td>\n",
       "      <td>40</td>\n",
       "    </tr>\n",
       "    <tr>\n",
       "      <th>7</th>\n",
       "      <td>Pinyahan</td>\n",
       "      <td>MAGALANG ST.</td>\n",
       "      <td>2017-01-11</td>\n",
       "      <td>00:00:00</td>\n",
       "      <td>PHYSICAL INJURIES</td>\n",
       "      <td>PERSONS</td>\n",
       "      <td>2017</td>\n",
       "      <td>1</td>\n",
       "      <td>2</td>\n",
       "      <td>0</td>\n",
       "      <td>No</td>\n",
       "      <td>0</td>\n",
       "    </tr>\n",
       "    <tr>\n",
       "      <th>8</th>\n",
       "      <td>Paligsahan</td>\n",
       "      <td>TIMOG AVE.</td>\n",
       "      <td>2017-01-11</td>\n",
       "      <td>18:30:00</td>\n",
       "      <td>THEFT</td>\n",
       "      <td>PROPERTY</td>\n",
       "      <td>2017</td>\n",
       "      <td>1</td>\n",
       "      <td>2</td>\n",
       "      <td>30</td>\n",
       "      <td>No</td>\n",
       "      <td>30</td>\n",
       "    </tr>\n",
       "    <tr>\n",
       "      <th>9</th>\n",
       "      <td>Sacred Heart</td>\n",
       "      <td>TOMAS MORATO AVE.</td>\n",
       "      <td>2017-01-13</td>\n",
       "      <td>03:00:00</td>\n",
       "      <td>PHYSICAL INJURIES</td>\n",
       "      <td>PERSONS</td>\n",
       "      <td>2017</td>\n",
       "      <td>1</td>\n",
       "      <td>4</td>\n",
       "      <td>0</td>\n",
       "      <td>No</td>\n",
       "      <td>0</td>\n",
       "    </tr>\n",
       "  </tbody>\n",
       "</table>\n",
       "</div>"
      ],
      "text/plain": [
       "         barangay             street date_committed time_committed  \\\n",
       "0        Kamuning          K-5TH ST.     2017-01-01       04:00:00   \n",
       "1         Central          EAST AVE.     2017-01-04       14:05:00   \n",
       "2         Central     ELLIPTICAL RD.     2017-01-05       00:00:00   \n",
       "3         Central     ELLIPTICAL RD.     2017-01-05       19:00:00   \n",
       "4        Pinyahan               EDSA     2017-01-08       15:00:00   \n",
       "5        Pinyahan          EAST AVE.     2017-01-05       13:30:00   \n",
       "6  South Triangle         PANAY AVE.     2017-01-09       03:40:00   \n",
       "7        Pinyahan       MAGALANG ST.     2017-01-11       00:00:00   \n",
       "8      Paligsahan         TIMOG AVE.     2017-01-11       18:30:00   \n",
       "9    Sacred Heart  TOMAS MORATO AVE.     2017-01-13       03:00:00   \n",
       "\n",
       "             offense crime_category  year  month  day_of_week  hour  \\\n",
       "0  PHYSICAL INJURIES        PERSONS  2017      1            6     0   \n",
       "1  PHYSICAL INJURIES        PERSONS  2017      1            2     5   \n",
       "2              THEFT       PROPERTY  2017      1            3     0   \n",
       "3            ROBBERY       PROPERTY  2017      1            3     0   \n",
       "4            ROBBERY       PROPERTY  2017      1            6     0   \n",
       "5            ROBBERY       PROPERTY  2017      1            3    30   \n",
       "6  PHYSICAL INJURIES        PERSONS  2017      1            0    40   \n",
       "7  PHYSICAL INJURIES        PERSONS  2017      1            2     0   \n",
       "8              THEFT       PROPERTY  2017      1            2    30   \n",
       "9  PHYSICAL INJURIES        PERSONS  2017      1            4     0   \n",
       "\n",
       "  is_weekend  minute  \n",
       "0        Yes       0  \n",
       "1         No       5  \n",
       "2         No       0  \n",
       "3         No       0  \n",
       "4        Yes       0  \n",
       "5         No      30  \n",
       "6         No      40  \n",
       "7         No       0  \n",
       "8         No      30  \n",
       "9         No       0  "
      ]
     },
     "execution_count": 87,
     "metadata": {},
     "output_type": "execute_result"
    }
   ],
   "source": [
    "df.head(10)"
   ]
  }
 ],
 "metadata": {
  "kernelspec": {
   "display_name": "Python 2",
   "language": "python",
   "name": "python2"
  },
  "language_info": {
   "codemirror_mode": {
    "name": "ipython",
    "version": 2
   },
   "file_extension": ".py",
   "mimetype": "text/x-python",
   "name": "python",
   "nbconvert_exporter": "python",
   "pygments_lexer": "ipython2",
   "version": "2.7.15"
  }
 },
 "nbformat": 4,
 "nbformat_minor": 2
}
